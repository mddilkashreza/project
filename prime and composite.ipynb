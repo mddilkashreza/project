{
 "cells": [
  {
   "cell_type": "code",
   "execution_count": 3,
   "id": "47f5638b",
   "metadata": {},
   "outputs": [
    {
     "name": "stdout",
     "output_type": "stream",
     "text": [
      "python"
     ]
    }
   ],
   "source": [
    "# for loop in string\n",
    "a = \"python\"\n",
    "for i in a:\n",
    "    print(i, end = \"\")"
   ]
  },
  {
   "cell_type": "code",
   "execution_count": 7,
   "id": "468908ab",
   "metadata": {},
   "outputs": [
    {
     "name": "stdout",
     "output_type": "stream",
     "text": [
      "Helloworld!IamPythondeveloper.Iambest"
     ]
    }
   ],
   "source": [
    "a = \"Hello world! I am Python developer. I am best\"\n",
    "for i in a:\n",
    "    if i != \" \":\n",
    "        print(i, end = \"\")"
   ]
  },
  {
   "cell_type": "code",
   "execution_count": 8,
   "id": "bd65c92e",
   "metadata": {},
   "outputs": [
    {
     "name": "stdout",
     "output_type": "stream",
     "text": [
      "Helloworld!IamPythondeveloperIambest"
     ]
    }
   ],
   "source": [
    "a = \"Hello world! I am Python developer. I am best\"\n",
    "for i in a:\n",
    "    if i != \".\" and i !=\" \":\n",
    "        print(i, end = \"\")"
   ]
  },
  {
   "cell_type": "code",
   "execution_count": null,
   "id": "83e4980c",
   "metadata": {},
   "outputs": [],
   "source": [
    "# while loop\n",
    "# infinite loop\n",
    "# while True:\n",
    "#     print(\"Hello World\")"
   ]
  },
  {
   "cell_type": "code",
   "execution_count": 10,
   "id": "d9ae33ae",
   "metadata": {},
   "outputs": [
    {
     "name": "stdout",
     "output_type": "stream",
     "text": [
      "0 Hello World\n",
      "1 Hello World\n",
      "2 Hello World\n",
      "3 Hello World\n",
      "4 Hello World\n",
      "5 Hello World\n"
     ]
    }
   ],
   "source": [
    "a = 0\n",
    "while a<=5:\n",
    "    print(a,\"Hello World\")\n",
    "    a = a + 1"
   ]
  },
  {
   "cell_type": "code",
   "execution_count": 12,
   "id": "1f728a60",
   "metadata": {},
   "outputs": [
    {
     "name": "stdout",
     "output_type": "stream",
     "text": [
      "5 Hello World\n",
      "4 Hello World\n",
      "3 Hello World\n",
      "2 Hello World\n",
      "1 Hello World\n",
      "0 Hello World\n"
     ]
    }
   ],
   "source": [
    "a = 5\n",
    "while a>=0:\n",
    "    print(a, \"Hello World\")\n",
    "    a = a -1"
   ]
  },
  {
   "cell_type": "code",
   "execution_count": 16,
   "id": "f74ba680",
   "metadata": {},
   "outputs": [
    {
     "name": "stdout",
     "output_type": "stream",
     "text": [
      "Enter n =8\n",
      "8 * 1 = 8\n",
      "8 * 2 = 16\n",
      "8 * 3 = 24\n",
      "8 * 4 = 32\n",
      "8 * 5 = 40\n",
      "8 * 6 = 48\n",
      "8 * 7 = 56\n",
      "8 * 8 = 64\n",
      "8 * 9 = 72\n",
      "8 * 10 = 80\n"
     ]
    }
   ],
   "source": [
    "i = 1\n",
    "n = int(input(\"Enter n =\"))\n",
    "while i<=10:\n",
    "    print(n,\"*\",i,\"=\",n*i)\n",
    "    i = i+1\n"
   ]
  },
  {
   "cell_type": "code",
   "execution_count": 18,
   "id": "1d4f4fe8",
   "metadata": {},
   "outputs": [
    {
     "name": "stdout",
     "output_type": "stream",
     "text": [
      "Enter n =2\n",
      "Enter x =5\n",
      "Enter x =7\n",
      "12\n"
     ]
    }
   ],
   "source": [
    "s = 0\n",
    "i = 0\n",
    "n = int(input(\"Enter n =\"))\n",
    "while i<n:\n",
    "    x = int(input(\"Enter x =\"))\n",
    "    s = s+x\n",
    "    i = i+1\n",
    "print(s)"
   ]
  },
  {
   "cell_type": "code",
   "execution_count": 19,
   "id": "b0edde6b",
   "metadata": {},
   "outputs": [
    {
     "name": "stdout",
     "output_type": "stream",
     "text": [
      "Enter n =2\n",
      "Enter name = dilkash\n",
      "Enter phone = 987654321\n",
      "Enter name = Heena\n",
      "Enter phone = 123456789\n",
      "dilkash 987654321\n",
      "Heena 123456789\n",
      "\n"
     ]
    }
   ],
   "source": [
    "i = 0\n",
    "s = str()\n",
    "n = int(input(\"Enter n =\"))\n",
    "while i<n:\n",
    "    name = input(\"Enter name = \")\n",
    "    phone = input(\"Enter phone = \")\n",
    "    s = s + name + \" \" + phone + \"\\n\"\n",
    "    i+=1\n",
    "print(s)"
   ]
  },
  {
   "cell_type": "code",
   "execution_count": null,
   "id": "57d38280",
   "metadata": {},
   "outputs": [],
   "source": [
    "# control statement\n",
    "# break\n",
    "# continue\n",
    "# pass"
   ]
  },
  {
   "cell_type": "code",
   "execution_count": 20,
   "id": "bd86197d",
   "metadata": {},
   "outputs": [
    {
     "name": "stdout",
     "output_type": "stream",
     "text": [
      "0\n",
      "1\n",
      "2\n",
      "3\n",
      "4\n"
     ]
    }
   ],
   "source": [
    "for i in range(10):\n",
    "    if i == 5:\n",
    "        break\n",
    "    print(i)"
   ]
  },
  {
   "cell_type": "code",
   "execution_count": 21,
   "id": "672a134a",
   "metadata": {},
   "outputs": [
    {
     "name": "stdout",
     "output_type": "stream",
     "text": [
      "0\n",
      "1\n",
      "2\n",
      "3\n",
      "4\n",
      "5\n",
      "7\n",
      "8\n",
      "9\n"
     ]
    }
   ],
   "source": [
    "for i in range(10):\n",
    "    if i == 6:\n",
    "        continue\n",
    "    print(i)"
   ]
  },
  {
   "cell_type": "code",
   "execution_count": 22,
   "id": "0bbee996",
   "metadata": {},
   "outputs": [
    {
     "name": "stdout",
     "output_type": "stream",
     "text": [
      "0\n",
      "1\n",
      "2\n",
      "3\n",
      "4\n",
      "5\n",
      "6\n",
      "7\n",
      "8\n",
      "9\n"
     ]
    }
   ],
   "source": [
    "for i in range(10):\n",
    "    if i == 4:\n",
    "        pass\n",
    "    print(i)"
   ]
  },
  {
   "cell_type": "code",
   "execution_count": 24,
   "id": "4bb7f21f",
   "metadata": {},
   "outputs": [
    {
     "name": "stdout",
     "output_type": "stream",
     "text": [
      "Hello World I am Python Developer"
     ]
    }
   ],
   "source": [
    "a = \"Hello World I am Python Developer. I am the best.\"\n",
    "for i in a:\n",
    "    if i == \".\":\n",
    "        break\n",
    "    print(i, end = \"\")"
   ]
  },
  {
   "cell_type": "code",
   "execution_count": 25,
   "id": "d944168c",
   "metadata": {},
   "outputs": [
    {
     "name": "stdout",
     "output_type": "stream",
     "text": [
      "Hello World I am Python Developer I am the best"
     ]
    }
   ],
   "source": [
    "a = \"Hello World I am Python Developer. I am the best.\"\n",
    "for i in a:\n",
    "    if i == \".\":\n",
    "        continue\n",
    "    print(i, end = \"\")"
   ]
  },
  {
   "cell_type": "code",
   "execution_count": 26,
   "id": "c056e4a1",
   "metadata": {},
   "outputs": [],
   "source": [
    "a = 3\n",
    "if a>10:\n",
    "    pass\n",
    "    "
   ]
  },
  {
   "cell_type": "code",
   "execution_count": 29,
   "id": "076cc1e6",
   "metadata": {},
   "outputs": [
    {
     "name": "stdout",
     "output_type": "stream",
     "text": [
      "0\n",
      "1\n",
      "2\n"
     ]
    }
   ],
   "source": [
    "# control statement in while loop\n",
    "a = 0\n",
    "while a<=5:\n",
    "    if a == 3:\n",
    "        break\n",
    "    print(a)\n",
    "    a = a+1"
   ]
  },
  {
   "cell_type": "code",
   "execution_count": null,
   "id": "a9a6935d",
   "metadata": {},
   "outputs": [],
   "source": [
    "a = 0\n",
    "while a<=9:\n",
    "    if a == 4:\n",
    "        a = a+1\n",
    "        continue\n",
    "    print(a)\n",
    "    a = a + 1"
   ]
  },
  {
   "cell_type": "code",
   "execution_count": null,
   "id": "f08943bb",
   "metadata": {},
   "outputs": [],
   "source": [
    "a = 0\n",
    "while a<=9:\n",
    "    if a ==4:\n",
    "        a =a+1\n",
    "        continue\n",
    "    print(a)\n",
    "    a = a+1"
   ]
  },
  {
   "cell_type": "code",
   "execution_count": null,
   "id": "4dc78f0e",
   "metadata": {},
   "outputs": [],
   "source": [
    "# wap to detect if the given no from user is prime or composite\n",
    "# prime = 2,3,5,7,11,13,17\n",
    "# composite = 2,4,6,8,10,12"
   ]
  }
 ],
 "metadata": {
  "kernelspec": {
   "display_name": "Python 3 (ipykernel)",
   "language": "python",
   "name": "python3"
  },
  "language_info": {
   "codemirror_mode": {
    "name": "ipython",
    "version": 3
   },
   "file_extension": ".py",
   "mimetype": "text/x-python",
   "name": "python",
   "nbconvert_exporter": "python",
   "pygments_lexer": "ipython3",
   "version": "3.10.9"
  }
 },
 "nbformat": 4,
 "nbformat_minor": 5
}
