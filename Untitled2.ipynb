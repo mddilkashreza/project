{
 "cells": [
  {
   "cell_type": "code",
   "execution_count": null,
   "id": "58ff9895",
   "metadata": {},
   "outputs": [],
   "source": [
    "user_input = input(\"Enter a valid number only:\")\n",
    "a = float(user_input)\n",
    "if a>10:\n",
    "    print(\"The number is greater than 10.\")\n",
    "elif a == 10:\n",
    "    print(\"The number is equal to 10.\")\n",
    "else:\n",
    "    print(\"The number is less than 10.\")"
   ]
  },
  {
   "cell_type": "code",
   "execution_count": null,
   "id": "2b14686e",
   "metadata": {},
   "outputs": [],
   "source": [
    "user_input = input(\"Enter your age:\")\n",
    "age = float(user_input)\n",
    "if age < 10:\n",
    "    print(\"Hi Dear. You can use the product for free\")\n",
    "elif age>=10 and age < 20:\n",
    "    print(\"Please donate 1$ for the product.\")\n",
    "elif age >= 20 and age < 30:\n",
    "    print(\"Please donate 2$ for the product\")\n",
    "elif age >= 30 and age < 40:\n",
    "    print(\"Please donate $3 for the product\")\n",
    "else:\n",
    "    print(\"Please donate $5 for the product\")"
   ]
  },
  {
   "cell_type": "code",
   "execution_count": null,
   "id": "d6a993e7",
   "metadata": {},
   "outputs": [],
   "source": [
    "user_input = input(\"Enter a valid number only:\")\n",
    "a = float(user_input)\n",
    "if a>10:\n",
    "    print(\"The number is greater than 10.\")\n",
    "else:\n",
    "    if a==10:\n",
    "        print(\"The number is equal to 10.\")\n",
    "    else:\n",
    "        print(\"The number is less than 10.\")"
   ]
  },
  {
   "cell_type": "code",
   "execution_count": null,
   "id": "2286208b",
   "metadata": {},
   "outputs": [],
   "source": [
    "user_input= input(\"Enter a valid number only:\")\n",
    "a = float(user_input)\n",
    "if a<0:\n",
    "    print(\"The number is less than 0.\")\n",
    "else:\n",
    "    if a <1:\n",
    "        print(\"The number is greater than 0  and less than 1\")\n",
    "    else:\n",
    "        if a == 1:\n",
    "            print(\"The number is equal to 1.\")\n",
    "        else:\n",
    "            if a == 2:\n",
    "                print(\"The number is equal to 2.\")\n",
    "            else:\n",
    "                if a == 3:\n",
    "                    print(\"The number is equal to 3.\")\n",
    "                else:\n",
    "                    print(\"The number is greater than 3\")"
   ]
  },
  {
   "cell_type": "code",
   "execution_count": null,
   "id": "df372488",
   "metadata": {},
   "outputs": [],
   "source": [
    "a = input(\"Enter a valid integer for the dividend:\")\n",
    "b = input(\"Enter a valid integer for the divisor:\")\n",
    "dividend = int(a)\n",
    "divisor = int(b)\n",
    "if divisor != 0:\n",
    "    result = dividend/divisor\n",
    "    print(f\"Division successful.The result is:{result}\")\n",
    "else:\n",
    "    print(\"You cannot proceed when the divisor is 0.\")"
   ]
  },
  {
   "cell_type": "code",
   "execution_count": null,
   "id": "f2994869",
   "metadata": {},
   "outputs": [],
   "source": [
    "a = input(\"Enter a valid integer for the dividend:\")\n",
    "b = input(\"Enter a valid integer for the divisor:\")\n",
    "dividend = int(a)\n",
    "divisor=int(b)\n",
    "result = 0\n",
    "result = dividend/divisor if divisor!=0 else print(\"You cannot set the divisor to 0.\")\n",
    "print(f\"The result is:{result}\")"
   ]
  },
  {
   "cell_type": "code",
   "execution_count": null,
   "id": "daadc682",
   "metadata": {},
   "outputs": [],
   "source": [
    "a = 5\n",
    "if a > 10:\n",
    "    print(\"The number is greater than 10.\")\n",
    "elif a == 10:\n",
    "    print(\"The condition will never be satisfied\")"
   ]
  },
  {
   "cell_type": "code",
   "execution_count": null,
   "id": "55bdf558",
   "metadata": {},
   "outputs": [],
   "source": [
    "a = 5\n",
    "if a<7 or a > 9:\n",
    "    print(\"The condition is satisfied\")\n",
    "else:\n",
    "    print(\"The condition will never be satisfied\")"
   ]
  },
  {
   "cell_type": "code",
   "execution_count": null,
   "id": "212eae6a",
   "metadata": {},
   "outputs": [],
   "source": [
    "number = 0\n",
    "if number:\n",
    "    print(f\"The condition is satisfied.number={number}\")\n",
    "else:\n",
    "    print(f\"The condition is not satisfied.number = {number}\")"
   ]
  },
  {
   "cell_type": "code",
   "execution_count": null,
   "id": "09485309",
   "metadata": {},
   "outputs": [],
   "source": [
    "from random import randint\n",
    "x = randint(10,12)\n",
    "question1=\"2*3-4\"\n",
    "question1 = question1.replace(\"2\",str(x))\n",
    "question2 = \"1+(2*3)/4\"\n",
    "question2= question2.replace(\"1\",str(x))\n",
    "question3 = \"5*8%3\"\n",
    "question3 = question3.replace(\"5\",str(x))\n",
    "pick_question = randint(1,3)\n",
    "if pick_question ==1:\n",
    "    quiz = question1\n",
    "elif pick_question ==2:\n",
    "    quiz = question2\n",
    "else:\n",
    "    quiz = question3\n",
    "print(f\"Predict the value of the following expression:{quiz}\")\n",
    "user_input=input(\"Enter your answer:\")\n",
    "predicted_value = float(user_input)\n",
    "actual_value = float(user_input)\n",
    "if predicted_value == actual_value:\n",
    "    print(\"Correct answer.\")\n",
    "else:\n",
    "    print(\"Your answer is wrong.\")\n",
    "    print(f\"The correct answer is:{actual_value}\")"
   ]
  },
  {
   "cell_type": "code",
   "execution_count": null,
   "id": "22f4dc00",
   "metadata": {},
   "outputs": [],
   "source": [
    "current_value=1\n",
    "while current_value<=10:\n",
    "    print(current_value, end = \" \")\n",
    "    current_value+=1"
   ]
  },
  {
   "cell_type": "code",
   "execution_count": null,
   "id": "56fbef2e",
   "metadata": {},
   "outputs": [],
   "source": [
    "for current_value in range(1, 11):\n",
    "    print(current_value)\n",
    "print(\"Jobs has been done. Exit from the 'for' loop.\")"
   ]
  },
  {
   "cell_type": "code",
   "execution_count": null,
   "id": "8bad7335",
   "metadata": {},
   "outputs": [],
   "source": [
    "employees_names=[\"Sam\", \"Bob\", \"George\", \"Kate\", \"Julie\"]\n",
    "for employee in employees_names:\n",
    "    print(employee)"
   ]
  },
  {
   "cell_type": "code",
   "execution_count": null,
   "id": "d2200d9e",
   "metadata": {},
   "outputs": [],
   "source": [
    "# num = int(input(\"Enter a number:\"))\n",
    "# flag = False\n",
    "# if num == 1 or num == 0:\n",
    "#     print(num, \"is not a prime number or composite number\")\n",
    "# elif num > 1:\n",
    "#     for i in range(2, num):\n",
    "#         if (num % i) == 0 or (num % i) == 1:\n",
    "#             flag = True\n",
    "#             break\n",
    "#     if flag:\n",
    "#         print(num, \"is composite number\")\n",
    "#     else:\n",
    "#         print(num, \"is a prime number\")"
   ]
  },
  {
   "cell_type": "code",
   "execution_count": 6,
   "id": "35ab5ef5",
   "metadata": {},
   "outputs": [
    {
     "name": "stdout",
     "output_type": "stream",
     "text": [
      "Enter a number99\n",
      "99 is  a composite number\n"
     ]
    }
   ],
   "source": [
    "num = int(input(\"Enter a number\"))\n",
    "if num > 1:\n",
    "    for i in range(2, int(num/2)+1):\n",
    "        if (num % i) == 0:\n",
    "            print(num, \"is  a composite number\")\n",
    "            break\n",
    "    else:\n",
    "        print(num,\"is a prime number\")\n",
    "# else:\n",
    "#     print(num, \"is a composite number\")"
   ]
  },
  {
   "cell_type": "code",
   "execution_count": null,
   "id": "783380a5",
   "metadata": {},
   "outputs": [],
   "source": []
  },
  {
   "cell_type": "code",
   "execution_count": null,
   "id": "92df6026",
   "metadata": {},
   "outputs": [],
   "source": []
  },
  {
   "cell_type": "code",
   "execution_count": null,
   "id": "ce50fb13",
   "metadata": {},
   "outputs": [],
   "source": []
  },
  {
   "cell_type": "code",
   "execution_count": null,
   "id": "303a7522",
   "metadata": {},
   "outputs": [],
   "source": []
  }
 ],
 "metadata": {
  "kernelspec": {
   "display_name": "Python 3 (ipykernel)",
   "language": "python",
   "name": "python3"
  },
  "language_info": {
   "codemirror_mode": {
    "name": "ipython",
    "version": 3
   },
   "file_extension": ".py",
   "mimetype": "text/x-python",
   "name": "python",
   "nbconvert_exporter": "python",
   "pygments_lexer": "ipython3",
   "version": "3.10.9"
  }
 },
 "nbformat": 4,
 "nbformat_minor": 5
}
