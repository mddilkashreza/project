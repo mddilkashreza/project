{
 "cells": [
  {
   "cell_type": "code",
   "execution_count": 6,
   "id": "3f09c72f",
   "metadata": {},
   "outputs": [
    {
     "name": "stdout",
     "output_type": "stream",
     "text": [
      "Results: 5.0\n"
     ]
    }
   ],
   "source": [
    "def divide_numbers(x,y):\n",
    "    try:\n",
    "        result = x /y\n",
    "        print(\"Results:\", result)\n",
    "    except ZeroDivisionError:\n",
    "        print(\"The division by zero operation is not allowed\")\n",
    "a= 10\n",
    "b=2\n",
    "divide_numbers(a,b)"
   ]
  },
  {
   "cell_type": "code",
   "execution_count": 10,
   "id": "8e0df451",
   "metadata": {},
   "outputs": [
    {
     "name": "stdout",
     "output_type": "stream",
     "text": [
      "Input an integer: j\n",
      "Error: Invalid input, input a valid integer.\n",
      "Input value: None\n"
     ]
    }
   ],
   "source": [
    "def get_interger_input(prompt):\n",
    "    try:\n",
    "        value = int(input(prompt))\n",
    "        return value\n",
    "    except ValueError:\n",
    "        print(\"Error: Invalid input, input a valid integer.\")\n",
    "\n",
    "n = get_interger_input(\"Input an integer: \")\n",
    "print(\"Input value:\", n)"
   ]
  },
  {
   "cell_type": "code",
   "execution_count": 12,
   "id": "5e1decef",
   "metadata": {},
   "outputs": [
    {
     "name": "stdout",
     "output_type": "stream",
     "text": [
      "Input a file name:file5.txt\n",
      "Error: File not Found.\n"
     ]
    }
   ],
   "source": [
    "def open_file(filename):\n",
    "    try:\n",
    "        file = open(filename, 'r')\n",
    "        contents = file.read()\n",
    "        print(\"file contents:\")\n",
    "        print(contents)\n",
    "        file.close()\n",
    "    except FileNotFoundError:\n",
    "        print(\"Error: File not Found.\")\n",
    "file_name = input(\"Input a file name:\")\n",
    "open_file(file_name)"
   ]
  },
  {
   "cell_type": "code",
   "execution_count": null,
   "id": "461b8d90",
   "metadata": {},
   "outputs": [],
   "source": []
  },
  {
   "cell_type": "code",
   "execution_count": null,
   "id": "10c4e702",
   "metadata": {},
   "outputs": [],
   "source": []
  },
  {
   "cell_type": "code",
   "execution_count": null,
   "id": "700d51aa",
   "metadata": {},
   "outputs": [],
   "source": []
  },
  {
   "cell_type": "code",
   "execution_count": null,
   "id": "62798e4a",
   "metadata": {},
   "outputs": [],
   "source": []
  },
  {
   "cell_type": "code",
   "execution_count": null,
   "id": "840e4774",
   "metadata": {},
   "outputs": [],
   "source": []
  }
 ],
 "metadata": {
  "kernelspec": {
   "display_name": "Python 3 (ipykernel)",
   "language": "python",
   "name": "python3"
  },
  "language_info": {
   "codemirror_mode": {
    "name": "ipython",
    "version": 3
   },
   "file_extension": ".py",
   "mimetype": "text/x-python",
   "name": "python",
   "nbconvert_exporter": "python",
   "pygments_lexer": "ipython3",
   "version": "3.10.9"
  }
 },
 "nbformat": 4,
 "nbformat_minor": 5
}
