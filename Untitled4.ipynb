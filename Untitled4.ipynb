{
 "cells": [
  {
   "cell_type": "code",
   "execution_count": 4,
   "id": "574a5f13",
   "metadata": {},
   "outputs": [
    {
     "ename": "TypeError",
     "evalue": "object of type 'int' has no len()",
     "output_type": "error",
     "traceback": [
      "\u001b[1;31m---------------------------------------------------------------------------\u001b[0m",
      "\u001b[1;31mTypeError\u001b[0m                                 Traceback (most recent call last)",
      "Cell \u001b[1;32mIn[4], line 8\u001b[0m\n\u001b[0;32m      6\u001b[0m         average \u001b[38;5;241m=\u001b[39m total \u001b[38;5;241m/\u001b[39m\u001b[38;5;28mlen\u001b[39m(numbers)\n\u001b[0;32m      7\u001b[0m         \u001b[38;5;28;01mreturn\u001b[39;00m average\n\u001b[1;32m----> 8\u001b[0m \u001b[38;5;28mprint\u001b[39m(\u001b[43mcalculate_average\u001b[49m\u001b[43m(\u001b[49m\u001b[38;5;241;43m6\u001b[39;49m\u001b[43m)\u001b[49m)\n",
      "Cell \u001b[1;32mIn[4], line 2\u001b[0m, in \u001b[0;36mcalculate_average\u001b[1;34m(number)\u001b[0m\n\u001b[0;32m      1\u001b[0m \u001b[38;5;28;01mdef\u001b[39;00m \u001b[38;5;21mcalculate_average\u001b[39m(number):\n\u001b[1;32m----> 2\u001b[0m     \u001b[38;5;28;01mif\u001b[39;00m \u001b[38;5;28;43mlen\u001b[39;49m\u001b[43m(\u001b[49m\u001b[43mnumber\u001b[49m\u001b[43m)\u001b[49m \u001b[38;5;241m==\u001b[39m \u001b[38;5;241m0\u001b[39m:\n\u001b[0;32m      3\u001b[0m         \u001b[38;5;28;01mreturn\u001b[39;00m \u001b[38;5;28;01mNone\u001b[39;00m\n\u001b[0;32m      4\u001b[0m     \u001b[38;5;28;01melse\u001b[39;00m:\n",
      "\u001b[1;31mTypeError\u001b[0m: object of type 'int' has no len()"
     ]
    }
   ],
   "source": [
    "def calculate_average(number):\n",
    "    if len(number) == 0:\n",
    "        return None\n",
    "    else:\n",
    "        total = sum(numbers)\n",
    "        average = total /len(numbers)\n",
    "        return average\n",
    "print(calculate_average(6))"
   ]
  },
  {
   "cell_type": "code",
   "execution_count": 5,
   "id": "f8796f69",
   "metadata": {},
   "outputs": [
    {
     "name": "stdout",
     "output_type": "stream",
     "text": [
      "30\n"
     ]
    }
   ],
   "source": [
    "def calculate(width,height):\n",
    "    area = width * height\n",
    "    return area\n",
    "result = calculate(5,6)\n",
    "print(result)"
   ]
  },
  {
   "cell_type": "code",
   "execution_count": 7,
   "id": "2bfc52fd",
   "metadata": {},
   "outputs": [
    {
     "name": "stdout",
     "output_type": "stream",
     "text": [
      "Hello,Dilkash!\n",
      "Hi,Heena!\n"
     ]
    }
   ],
   "source": [
    "def greet(name, greeting=\"Hello\"):\n",
    "    print(greeting + \",\"+name+ \"!\")\n",
    "greet(\"Dilkash\")\n",
    "greet(\"Heena\", \"Hi\")"
   ]
  },
  {
   "cell_type": "code",
   "execution_count": 8,
   "id": "8d2648ac",
   "metadata": {},
   "outputs": [
    {
     "name": "stdout",
     "output_type": "stream",
     "text": [
      "11\n",
      "16\n"
     ]
    }
   ],
   "source": [
    "def calculate_sum(*args):\n",
    "    total = sum(args)\n",
    "    return total\n",
    "print(calculate_sum(2,4,5))\n",
    "print(calculate_sum(5,4,3,2,2))"
   ]
  },
  {
   "cell_type": "code",
   "execution_count": 9,
   "id": "a7ad2a9f",
   "metadata": {},
   "outputs": [
    {
     "name": "stdout",
     "output_type": "stream",
     "text": [
      "120\n"
     ]
    }
   ],
   "source": [
    "def factorial(n):\n",
    "    if n == 0:\n",
    "        return 1\n",
    "    else:\n",
    "        return n*factorial(n-1)\n",
    "print(factorial(5))"
   ]
  },
  {
   "cell_type": "code",
   "execution_count": 12,
   "id": "e5f36c6b",
   "metadata": {},
   "outputs": [
    {
     "name": "stdout",
     "output_type": "stream",
     "text": [
      "Enter number8\n",
      "40320\n"
     ]
    }
   ],
   "source": [
    "num = int(input(\"Enter number\"))\n",
    "def facto(num):\n",
    "    if num==0:\n",
    "        return 1\n",
    "    else:\n",
    "        return num * facto(num-1)\n",
    "print(facto(num))"
   ]
  },
  {
   "cell_type": "code",
   "execution_count": 13,
   "id": "aebefe61",
   "metadata": {},
   "outputs": [
    {
     "name": "stdout",
     "output_type": "stream",
     "text": [
      "Dilkash\n",
      "22\n"
     ]
    }
   ],
   "source": [
    "def get_name_and_age():\n",
    "    name = \"Dilkash\"\n",
    "    age = 22\n",
    "    return name, age\n",
    "person_name, person_age = get_name_and_age()\n",
    "print(person_name)\n",
    "print(person_age)"
   ]
  },
  {
   "cell_type": "code",
   "execution_count": 14,
   "id": "2870bf86",
   "metadata": {},
   "outputs": [
    {
     "name": "stdout",
     "output_type": "stream",
     "text": [
      "8\n"
     ]
    }
   ],
   "source": [
    "def fibonacci(n):\n",
    "    if n<=1:\n",
    "        return n\n",
    "    else:\n",
    "        return fibonacci(n - 1) + fibonacci(n - 2)\n",
    "print(fibonacci(6))"
   ]
  },
  {
   "cell_type": "code",
   "execution_count": 17,
   "id": "e92ab442",
   "metadata": {},
   "outputs": [
    {
     "name": "stdout",
     "output_type": "stream",
     "text": [
      "10\n",
      "20\n"
     ]
    }
   ],
   "source": [
    "def my_function():\n",
    "    x = 10\n",
    "    print(x)\n",
    "my_function()\n",
    "\n",
    "y = 20\n",
    "def another_function():\n",
    "    print(y)\n",
    "another_function()\n",
    "    "
   ]
  },
  {
   "cell_type": "code",
   "execution_count": 19,
   "id": "3f3cb249",
   "metadata": {},
   "outputs": [
    {
     "data": {
      "text/plain": [
       "7"
      ]
     },
     "execution_count": 19,
     "metadata": {},
     "output_type": "execute_result"
    }
   ],
   "source": [
    "def add(a: int, b: int) ->int:\n",
    "    return a+b\n",
    "    print(add)\n",
    "add(4,3)"
   ]
  },
  {
   "cell_type": "code",
   "execution_count": 20,
   "id": "457909df",
   "metadata": {},
   "outputs": [
    {
     "name": "stdout",
     "output_type": "stream",
     "text": [
      "Hello, World!\n"
     ]
    }
   ],
   "source": [
    "def uppercase_decorator(function):\n",
    "    def wrapper():\n",
    "        result = function()\n",
    "        return result.upper()\n",
    "    return wrapper\n",
    "def greet():\n",
    "    return \"Hello, World!\"\n",
    "print(greet())"
   ]
  },
  {
   "cell_type": "code",
   "execution_count": 21,
   "id": "307143ab",
   "metadata": {},
   "outputs": [
    {
     "name": "stdout",
     "output_type": "stream",
     "text": [
      "0\n",
      "1\n",
      "1\n",
      "2\n",
      "3\n",
      "5\n",
      "8\n",
      "13\n",
      "21\n",
      "34\n"
     ]
    }
   ],
   "source": [
    "def fibonacci():\n",
    "    a,b=0,1\n",
    "    while True:\n",
    "        yield a\n",
    "        a,b = b, a +b\n",
    "fib_gen = fibonacci()\n",
    "for _ in range(10):\n",
    "    print(next(fib_gen))"
   ]
  },
  {
   "cell_type": "code",
   "execution_count": 23,
   "id": "a77225e4",
   "metadata": {},
   "outputs": [
    {
     "name": "stdout",
     "output_type": "stream",
     "text": [
      "5\n"
     ]
    }
   ],
   "source": [
    "# def apply_operation(x,y, operation):\n",
    "#     return operation(x,y)\n",
    "addition = lambda a,b:a + b\n",
    "print(apply_operation(2,3, addition))"
   ]
  },
  {
   "cell_type": "code",
   "execution_count": 24,
   "id": "c149d3b7",
   "metadata": {},
   "outputs": [
    {
     "name": "stdout",
     "output_type": "stream",
     "text": [
      "5\n"
     ]
    }
   ],
   "source": [
    "addition = lambda a,b:a + b\n",
    "print(apply_operation(2,3, addition))"
   ]
  },
  {
   "cell_type": "code",
   "execution_count": 25,
   "id": "9c8c8b43",
   "metadata": {},
   "outputs": [
    {
     "name": "stdout",
     "output_type": "stream",
     "text": [
      "8\n"
     ]
    }
   ],
   "source": [
    "def outer_function(x):\n",
    "    def inner_function(y):\n",
    "        return x + y\n",
    "    return inner_function\n",
    "closure = outer_function(5)\n",
    "print(closure(3))"
   ]
  },
  {
   "cell_type": "code",
   "execution_count": 26,
   "id": "ef6a0ac4",
   "metadata": {},
   "outputs": [
    {
     "name": "stdout",
     "output_type": "stream",
     "text": [
      "Hello\n",
      "World\n",
      "name: Dilkash\n",
      "age: 22\n"
     ]
    }
   ],
   "source": [
    "def print_arguments(*args, **kwargs):\n",
    "    for arg in args:\n",
    "        print(arg)\n",
    "    for key, value in kwargs.items():\n",
    "        print(key + \": \" + value)\n",
    "        \n",
    "print_arguments(\"Hello\", \"World\", name=\"Dilkash\",age=\"22\")"
   ]
  },
  {
   "cell_type": "code",
   "execution_count": 27,
   "id": "1774b54a",
   "metadata": {},
   "outputs": [
    {
     "name": "stdout",
     "output_type": "stream",
     "text": [
      "10\n",
      "20\n",
      "20\n"
     ]
    }
   ],
   "source": [
    "global_var = 10\n",
    "\n",
    "def modify_global():\n",
    "    global global_var\n",
    "    global_var = 20\n",
    "    \n",
    "print(global_var)\n",
    "modify_global()\n",
    "print(global_var)\n",
    "\n",
    "def outer_function():\n",
    "    var = 10\n",
    "    def inner_function():\n",
    "        nonlocal var\n",
    "        var = 20\n",
    "    inner_function()\n",
    "    print(var)\n",
    "outer_function()"
   ]
  },
  {
   "cell_type": "code",
   "execution_count": 29,
   "id": "2d225d47",
   "metadata": {},
   "outputs": [
    {
     "name": "stdout",
     "output_type": "stream",
     "text": [
      "5\n"
     ]
    }
   ],
   "source": [
    "def two(x,y):\n",
    "    if x > y:\n",
    "        return x\n",
    "    return y\n",
    "def three(x,y,z):\n",
    "    return two(x, two(y,z))\n",
    "print(three(3,5,2))"
   ]
  },
  {
   "cell_type": "code",
   "execution_count": 31,
   "id": "4b503c59",
   "metadata": {},
   "outputs": [
    {
     "name": "stdout",
     "output_type": "stream",
     "text": [
      "z is greater\n",
      "None\n"
     ]
    }
   ],
   "source": [
    "def max(x,y,z):\n",
    "    if x > y:\n",
    "        print(\"X is greater\")\n",
    "    elif y > z:\n",
    "        print(\"Y is greater\")\n",
    "    else:\n",
    "        print(\"z is greater\")\n",
    "print(max(3,3,5))"
   ]
  },
  {
   "cell_type": "code",
   "execution_count": 34,
   "id": "40ef192c",
   "metadata": {},
   "outputs": [
    {
     "name": "stdout",
     "output_type": "stream",
     "text": [
      "22\n"
     ]
    }
   ],
   "source": [
    "def sum(numbers):\n",
    "    total = 0\n",
    "    for x in numbers:\n",
    "        total += x\n",
    "    return total\n",
    "print(sum((3,4,6,5,4)))"
   ]
  },
  {
   "cell_type": "code",
   "execution_count": 35,
   "id": "d5bca649",
   "metadata": {},
   "outputs": [
    {
     "name": "stdout",
     "output_type": "stream",
     "text": [
      "Enter number6\n"
     ]
    },
    {
     "ename": "TypeError",
     "evalue": "'int' object is not iterable",
     "output_type": "error",
     "traceback": [
      "\u001b[1;31m---------------------------------------------------------------------------\u001b[0m",
      "\u001b[1;31mTypeError\u001b[0m                                 Traceback (most recent call last)",
      "Cell \u001b[1;32mIn[35], line 7\u001b[0m\n\u001b[0;32m      5\u001b[0m         total \u001b[38;5;241m+\u001b[39m\u001b[38;5;241m=\u001b[39m x\n\u001b[0;32m      6\u001b[0m     \u001b[38;5;28;01mreturn\u001b[39;00m total\n\u001b[1;32m----> 7\u001b[0m \u001b[38;5;28mprint\u001b[39m(\u001b[38;5;28;43msum\u001b[39;49m\u001b[43m(\u001b[49m\u001b[43mn\u001b[49m\u001b[43m)\u001b[49m)\n",
      "Cell \u001b[1;32mIn[35], line 4\u001b[0m, in \u001b[0;36msum\u001b[1;34m(n)\u001b[0m\n\u001b[0;32m      2\u001b[0m \u001b[38;5;28;01mdef\u001b[39;00m \u001b[38;5;21msum\u001b[39m(n):\n\u001b[0;32m      3\u001b[0m     total \u001b[38;5;241m=\u001b[39m \u001b[38;5;241m0\u001b[39m\n\u001b[1;32m----> 4\u001b[0m     \u001b[38;5;28;01mfor\u001b[39;00m x \u001b[38;5;129;01min\u001b[39;00m n:\n\u001b[0;32m      5\u001b[0m         total \u001b[38;5;241m+\u001b[39m\u001b[38;5;241m=\u001b[39m x\n\u001b[0;32m      6\u001b[0m     \u001b[38;5;28;01mreturn\u001b[39;00m total\n",
      "\u001b[1;31mTypeError\u001b[0m: 'int' object is not iterable"
     ]
    }
   ],
   "source": [
    "n = int(input(\"Enter number\"))\n",
    "def sum(n):\n",
    "    total = 0\n",
    "    for x in n:\n",
    "        total += x\n",
    "    return total\n",
    "print(sum(n))"
   ]
  },
  {
   "cell_type": "code",
   "execution_count": 37,
   "id": "9a141b97",
   "metadata": {},
   "outputs": [
    {
     "name": "stdout",
     "output_type": "stream",
     "text": [
      "60\n"
     ]
    }
   ],
   "source": [
    "def multi(numbers):\n",
    "    total = 1\n",
    "    for x in numbers:\n",
    "        total *=x\n",
    "    return total\n",
    "print(multi((4,5,3)))\n",
    "    "
   ]
  },
  {
   "cell_type": "code",
   "execution_count": 39,
   "id": "ffbf5041",
   "metadata": {},
   "outputs": [
    {
     "name": "stdout",
     "output_type": "stream",
     "text": [
      "3r34efsd\n"
     ]
    }
   ],
   "source": [
    "def string_reverse(str1):\n",
    "    \n",
    "    rstr1 = ''\n",
    "    index = len(str1)\n",
    "    while index > 0:\n",
    "        rstr1 += str1[index - 1]\n",
    "        index = index - 1\n",
    "    return rstr1\n",
    "print(string_reverse('dsfe43r3'))"
   ]
  },
  {
   "cell_type": "code",
   "execution_count": 40,
   "id": "242034fc",
   "metadata": {},
   "outputs": [
    {
     "name": "stdout",
     "output_type": "stream",
     "text": [
      "120\n"
     ]
    }
   ],
   "source": [
    "def fac(n):\n",
    "    if n == 0:\n",
    "        return 1\n",
    "    else:\n",
    "        total = n*fac(n-1)\n",
    "        return total\n",
    "print(fac(5))"
   ]
  },
  {
   "cell_type": "code",
   "execution_count": 41,
   "id": "c3a64566",
   "metadata": {},
   "outputs": [
    {
     "name": "stdout",
     "output_type": "stream",
     "text": [
      "5 is in the range\n",
      "7 is in the range\n",
      "8 is in the range\n"
     ]
    }
   ],
   "source": [
    "def test(n):\n",
    "    if n in range(3,9):\n",
    "        print(\"%s is in the range\"%str(n))\n",
    "    else:\n",
    "        print(\"The number is outside the given range\")\n",
    "test(5)\n",
    "test(7)\n",
    "test(8)"
   ]
  },
  {
   "cell_type": "code",
   "execution_count": 43,
   "id": "bf598565",
   "metadata": {},
   "outputs": [
    {
     "name": "stdout",
     "output_type": "stream",
     "text": [
      "Originall String : The quick Brown Fox\n",
      "No. of Upper case characters : 3\n",
      "No. of lower case characters : 13\n"
     ]
    }
   ],
   "source": [
    "def string_test(s):\n",
    "    d={\"UPPER_CASE\":0, \"LOWER_CASE\":0}\n",
    "    for c in s:\n",
    "        if c.isupper():\n",
    "            d[\"UPPER_CASE\"]+=1\n",
    "        elif c.islower():\n",
    "            d[\"LOWER_CASE\"]+=1\n",
    "        else:\n",
    "            pass\n",
    "    print(\"Originall String :\" ,s)\n",
    "    print(\"No. of Upper case characters :\", d[\"UPPER_CASE\"])\n",
    "    print(\"No. of lower case characters :\", d[\"LOWER_CASE\"])\n",
    "string_test('The quick Brown Fox')"
   ]
  },
  {
   "cell_type": "code",
   "execution_count": 45,
   "id": "8c4a53aa",
   "metadata": {},
   "outputs": [
    {
     "name": "stdout",
     "output_type": "stream",
     "text": [
      "[1, 2, 3, 4, 5]\n"
     ]
    }
   ],
   "source": [
    "def unique(l):\n",
    "    x = []\n",
    "    for a in l:\n",
    "        if a not in x:\n",
    "            x.append(a)\n",
    "    return x\n",
    "print(unique([1,2,3,3,2,1,4,3,2,4,5,5]))"
   ]
  },
  {
   "cell_type": "code",
   "execution_count": null,
   "id": "404fe5bd",
   "metadata": {},
   "outputs": [],
   "source": []
  },
  {
   "cell_type": "code",
   "execution_count": null,
   "id": "78edf0ef",
   "metadata": {},
   "outputs": [],
   "source": []
  },
  {
   "cell_type": "code",
   "execution_count": null,
   "id": "c7739675",
   "metadata": {},
   "outputs": [],
   "source": []
  },
  {
   "cell_type": "code",
   "execution_count": null,
   "id": "c6357d4f",
   "metadata": {},
   "outputs": [],
   "source": []
  },
  {
   "cell_type": "code",
   "execution_count": null,
   "id": "5d080e6e",
   "metadata": {},
   "outputs": [],
   "source": []
  }
 ],
 "metadata": {
  "kernelspec": {
   "display_name": "Python 3 (ipykernel)",
   "language": "python",
   "name": "python3"
  },
  "language_info": {
   "codemirror_mode": {
    "name": "ipython",
    "version": 3
   },
   "file_extension": ".py",
   "mimetype": "text/x-python",
   "name": "python",
   "nbconvert_exporter": "python",
   "pygments_lexer": "ipython3",
   "version": "3.10.9"
  }
 },
 "nbformat": 4,
 "nbformat_minor": 5
}
