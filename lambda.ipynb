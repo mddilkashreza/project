{
 "cells": [
  {
   "cell_type": "code",
   "execution_count": null,
   "id": "517a2a9d",
   "metadata": {},
   "outputs": [],
   "source": [
    "# lambda function/Annynomous function:\n",
    "# map(), filter()"
   ]
  },
  {
   "cell_type": "code",
   "execution_count": null,
   "id": "b23015c6",
   "metadata": {},
   "outputs": [],
   "source": [
    "a = lambda x:x**4\n",
    "a(5)"
   ]
  },
  {
   "cell_type": "code",
   "execution_count": null,
   "id": "9f6c905c",
   "metadata": {},
   "outputs": [],
   "source": [
    "a = lambda l,b:l*b\n",
    "a(5,13)"
   ]
  },
  {
   "cell_type": "code",
   "execution_count": null,
   "id": "cde06f0c",
   "metadata": {},
   "outputs": [],
   "source": []
  },
  {
   "cell_type": "code",
   "execution_count": null,
   "id": "46fb9b4f",
   "metadata": {},
   "outputs": [],
   "source": [
    "a = [33,34,32,45,44,44,56,43,32]\n",
    "list(filter(lambda x:x%2==0, a))"
   ]
  },
  {
   "cell_type": "code",
   "execution_count": null,
   "id": "12a7bde7",
   "metadata": {},
   "outputs": [],
   "source": [
    "a = [\"Apple\", \"Ball\", \"Cat\", \"Fish\", \"goat\"]\n",
    "list(filter(lambda x:x[0].isupper(), a))"
   ]
  },
  {
   "cell_type": "code",
   "execution_count": null,
   "id": "44a60cb2",
   "metadata": {},
   "outputs": [],
   "source": [
    "# mapping\n",
    "a = [\"Apple\", \"Ball\", \"cat\", \"Fish\"]\n",
    "list(map(lambda x:x.lower(), a))"
   ]
  },
  {
   "cell_type": "code",
   "execution_count": null,
   "id": "021030f6",
   "metadata": {},
   "outputs": [],
   "source": [
    "a = [1,2,3,4,5,6,7,8,9]\n",
    "list(map(lambda x:x**2, a))"
   ]
  },
  {
   "cell_type": "code",
   "execution_count": null,
   "id": "cd4c609f",
   "metadata": {},
   "outputs": [],
   "source": [
    "# os package\n",
    "import os\n",
    "\n",
    "os.listdir()\n"
   ]
  },
  {
   "cell_type": "code",
   "execution_count": null,
   "id": "7484f170",
   "metadata": {},
   "outputs": [],
   "source": [
    "# mkdir() chdir() rmdir() remove() rename()\n"
   ]
  },
  {
   "cell_type": "code",
   "execution_count": null,
   "id": "a5dbd4c1",
   "metadata": {},
   "outputs": [],
   "source": [
    "import os\n",
    "\n",
    "os.mkdir('Heena')"
   ]
  },
  {
   "cell_type": "code",
   "execution_count": null,
   "id": "f4ac6eb3",
   "metadata": {},
   "outputs": [],
   "source": [
    "try:\n",
    "    os.mkdir('Heena')\n",
    "except:\n",
    "    print(\"Already exist\")"
   ]
  },
  {
   "cell_type": "code",
   "execution_count": null,
   "id": "7bf3227e",
   "metadata": {},
   "outputs": [],
   "source": [
    "os.chdir('Heena')"
   ]
  },
  {
   "cell_type": "code",
   "execution_count": null,
   "id": "13f580f0",
   "metadata": {},
   "outputs": [],
   "source": [
    "import os\n",
    "os.rename('Heena','Dilkash')\n"
   ]
  },
  {
   "cell_type": "code",
   "execution_count": null,
   "id": "54eb475e",
   "metadata": {},
   "outputs": [],
   "source": [
    "# comprehensive list dict\n",
    "a = [i for i in range(7)]\n",
    "a"
   ]
  },
  {
   "cell_type": "code",
   "execution_count": null,
   "id": "4367d443",
   "metadata": {},
   "outputs": [],
   "source": [
    "a = [int(input(\"Enter value\")) for i in range(4)]\n",
    "a"
   ]
  },
  {
   "cell_type": "code",
   "execution_count": null,
   "id": "7c0739a4",
   "metadata": {},
   "outputs": [],
   "source": [
    "a  = [1,2,3,4,5,6,7,8,9]\n",
    "b = [i*2 for i in a]\n",
    "b"
   ]
  },
  {
   "cell_type": "code",
   "execution_count": null,
   "id": "362e12ca",
   "metadata": {},
   "outputs": [],
   "source": [
    "d = {input(\"Enter name = \"):input(\"Enter phone = \") for i in range(2)}\n",
    "d"
   ]
  },
  {
   "cell_type": "code",
   "execution_count": 1,
   "id": "d1e3b3e3",
   "metadata": {},
   "outputs": [
    {
     "name": "stdout",
     "output_type": "stream",
     "text": [
      "Enter name = Dilkash\n",
      "Enter phone = 98765432\n",
      "Enter name = Heena\n",
      "Enter phone = 1234567\n"
     ]
    },
    {
     "data": {
      "text/plain": [
       "{'Dilkash': '98765432', 'Heena': '1234567'}"
      ]
     },
     "execution_count": 1,
     "metadata": {},
     "output_type": "execute_result"
    }
   ],
   "source": [
    "d = {input(\"Enter name = \"):input(\"Enter phone = \") for i in range(2)}\n",
    "d"
   ]
  },
  {
   "cell_type": "code",
   "execution_count": 2,
   "id": "9ba2aada",
   "metadata": {},
   "outputs": [
    {
     "data": {
      "text/plain": [
       "{'Apple': 'apple',\n",
       " 'Ball': 'ball',\n",
       " 'cat': 'cat',\n",
       " 'Fish': 'fish',\n",
       " 'Goat': 'goat'}"
      ]
     },
     "execution_count": 2,
     "metadata": {},
     "output_type": "execute_result"
    }
   ],
   "source": [
    "a = [\"Apple\", \"Ball\", \"cat\", \"Fish\", \"Goat\"]\n",
    "b = {i:i.lower() for i in a}\n",
    "b"
   ]
  },
  {
   "cell_type": "code",
   "execution_count": null,
   "id": "5d0e22c0",
   "metadata": {},
   "outputs": [],
   "source": []
  },
  {
   "cell_type": "code",
   "execution_count": null,
   "id": "e16b3ae0",
   "metadata": {},
   "outputs": [],
   "source": []
  },
  {
   "cell_type": "code",
   "execution_count": null,
   "id": "067b2d4f",
   "metadata": {},
   "outputs": [],
   "source": []
  },
  {
   "cell_type": "code",
   "execution_count": null,
   "id": "3f948ea2",
   "metadata": {},
   "outputs": [],
   "source": []
  },
  {
   "cell_type": "code",
   "execution_count": null,
   "id": "a15c5ecb",
   "metadata": {},
   "outputs": [],
   "source": []
  },
  {
   "cell_type": "code",
   "execution_count": null,
   "id": "d3e37608",
   "metadata": {},
   "outputs": [],
   "source": []
  },
  {
   "cell_type": "code",
   "execution_count": null,
   "id": "a0c1a3bc",
   "metadata": {},
   "outputs": [],
   "source": []
  },
  {
   "cell_type": "code",
   "execution_count": null,
   "id": "5df9ea19",
   "metadata": {},
   "outputs": [],
   "source": []
  },
  {
   "cell_type": "code",
   "execution_count": null,
   "id": "cc6f8a65",
   "metadata": {},
   "outputs": [],
   "source": []
  }
 ],
 "metadata": {
  "kernelspec": {
   "display_name": "Python 3 (ipykernel)",
   "language": "python",
   "name": "python3"
  },
  "language_info": {
   "codemirror_mode": {
    "name": "ipython",
    "version": 3
   },
   "file_extension": ".py",
   "mimetype": "text/x-python",
   "name": "python",
   "nbconvert_exporter": "python",
   "pygments_lexer": "ipython3",
   "version": "3.10.9"
  }
 },
 "nbformat": 4,
 "nbformat_minor": 5
}
