{
 "cells": [
  {
   "cell_type": "code",
   "execution_count": null,
   "id": "f8641784",
   "metadata": {},
   "outputs": [],
   "source": [
    "a = 'Hello World'\n",
    "b = \"Hello World\"\n",
    "c = '''Hello World'''\n",
    "print(type(a))\n",
    "print(type(b))\n",
    "print(type(c))"
   ]
  },
  {
   "cell_type": "code",
   "execution_count": null,
   "id": "11f48386",
   "metadata": {},
   "outputs": [],
   "source": []
  },
  {
   "cell_type": "code",
   "execution_count": null,
   "id": "d4fe09ea",
   "metadata": {},
   "outputs": [],
   "source": []
  },
  {
   "cell_type": "code",
   "execution_count": null,
   "id": "41ba990d",
   "metadata": {},
   "outputs": [],
   "source": []
  },
  {
   "cell_type": "code",
   "execution_count": null,
   "id": "e2cff39e",
   "metadata": {},
   "outputs": [],
   "source": []
  },
  {
   "cell_type": "code",
   "execution_count": null,
   "id": "f395f39c",
   "metadata": {},
   "outputs": [],
   "source": []
  },
  {
   "cell_type": "code",
   "execution_count": null,
   "id": "db7238f6",
   "metadata": {},
   "outputs": [],
   "source": [
    "a = \"Hello\"\n",
    "b = \"World\"\n",
    "c = a+b\n",
    "print(c)"
   ]
  },
  {
   "cell_type": "code",
   "execution_count": null,
   "id": "47bd7b6a",
   "metadata": {},
   "outputs": [],
   "source": [
    "a = \"Hello World\\n\"\n",
    "print(a*2)"
   ]
  },
  {
   "cell_type": "code",
   "execution_count": null,
   "id": "9f864ecf",
   "metadata": {},
   "outputs": [],
   "source": [
    "a = input(\"Enter a =\")\n",
    "print(a)"
   ]
  },
  {
   "cell_type": "code",
   "execution_count": null,
   "id": "c302323b",
   "metadata": {},
   "outputs": [],
   "source": [
    "a = \"Hello World\"\n",
    "print(a[0])\n",
    "print(a[0:11:2])"
   ]
  },
  {
   "cell_type": "code",
   "execution_count": null,
   "id": "92db2ff6",
   "metadata": {},
   "outputs": [],
   "source": [
    "a = \"Hello World\"\n",
    "a[-1:0:-1]"
   ]
  },
  {
   "cell_type": "code",
   "execution_count": null,
   "id": "6e1a9772",
   "metadata": {},
   "outputs": [],
   "source": [
    "a = \"Hello World\"\n",
    "print(a[:])\n",
    "print(a[::-1])"
   ]
  },
  {
   "cell_type": "code",
   "execution_count": null,
   "id": "a4b2974f",
   "metadata": {},
   "outputs": [],
   "source": [
    "# string formatting\n"
   ]
  },
  {
   "cell_type": "code",
   "execution_count": null,
   "id": "0be672ef",
   "metadata": {},
   "outputs": [],
   "source": [
    "a = \"ram\"\n",
    "print(type(a))"
   ]
  },
  {
   "cell_type": "code",
   "execution_count": null,
   "id": "7afd1b68",
   "metadata": {},
   "outputs": [],
   "source": [
    "name = \"Ram\"\n",
    "age = 34\n",
    "add = \"Kathmandu\"\n",
    "\n",
    "info = \"Hello World I am \"+name+\"I am from\"+ add + \"I am \" + str(age)\n",
    "print(info)"
   ]
  },
  {
   "cell_type": "code",
   "execution_count": null,
   "id": "26b8b335",
   "metadata": {},
   "outputs": [],
   "source": [
    "name = input(\"Enter name = \")\n",
    "age = int(input(\"Enter age = \"))\n",
    "add = input(\"Enter add =\")\n",
    "\n",
    "info = f\"Hello World I am {name}. I am from {add}.I am {age}.\"\n",
    "print(info)"
   ]
  },
  {
   "cell_type": "code",
   "execution_count": null,
   "id": "3b33d06e",
   "metadata": {},
   "outputs": [],
   "source": [
    "bill = \"\"\n",
    "grand_total = 0\n",
    "n = int(input(\"Enter n = \"))\n",
    "for i in range(n):\n",
    "    name = input(\"Enter name = \")\n",
    "    price = int(input(\"Enter price = \"))\n",
    "    quantity = float(input(\"Enter quantity =\"))\n",
    "    total = price * quantity\n",
    "    bill = bill + f\"{name} {price} {quantity} {total}\\n\"\n",
    "    grand_total = grand_total + total\n",
    "print(bill)\n",
    "print(grand_total)"
   ]
  },
  {
   "cell_type": "code",
   "execution_count": null,
   "id": "9750bfc3",
   "metadata": {},
   "outputs": [],
   "source": [
    "a = \"Python\"\n",
    "l = len(a)\n",
    "for i in range(l):\n",
    "    print(a[i])"
   ]
  },
  {
   "cell_type": "code",
   "execution_count": null,
   "id": "d3f861c5",
   "metadata": {},
   "outputs": [],
   "source": [
    "i = 0\n",
    "a = \"Python\"\n",
    "while i<len(a):\n",
    "    print(a[i], end = \"\")\n",
    "    i = i + 1"
   ]
  },
  {
   "cell_type": "code",
   "execution_count": null,
   "id": "4032fc51",
   "metadata": {},
   "outputs": [],
   "source": [
    "a = \"Ram\", \"Shyam\", \"Hari\", \"Sita\", \"Gita\"\n",
    "if \"Ram\" in a:\n",
    "    print(\"yes\")\n",
    "else:\n",
    "    print(\"NO\")"
   ]
  },
  {
   "cell_type": "code",
   "execution_count": null,
   "id": "f437cb1e",
   "metadata": {},
   "outputs": [],
   "source": [
    "a = \"Ram\", \"Shyam\", \"Hari\", \"Sita\", \"Gita\"\n",
    "name = input(\"Enter name = \")\n",
    "if name in a:\n",
    "    print(\"Yes\")\n",
    "else:\n",
    "    print(\"No\")"
   ]
  },
  {
   "cell_type": "code",
   "execution_count": null,
   "id": "245d7817",
   "metadata": {},
   "outputs": [],
   "source": [
    "a = \"Ram\", \"Shyam\", \"Hari\", \"Sita\", \"Gita\"\n",
    "name = input(\"Enter name =\")\n",
    "if name in a:\n",
    "    print(\"Yes\")\n",
    "    print(a.count(name))\n",
    "else:\n",
    "    print(\"No\")"
   ]
  },
  {
   "cell_type": "code",
   "execution_count": null,
   "id": "06eacf72",
   "metadata": {},
   "outputs": [],
   "source": [
    "a = \"Ram Shyam Hari Sita Gita\"\n",
    "print(a.lower())\n",
    "print(a.upper())"
   ]
  },
  {
   "cell_type": "code",
   "execution_count": null,
   "id": "ded9beed",
   "metadata": {},
   "outputs": [],
   "source": [
    "a = \"Ram Shyam Hari Sita Gita\".lower()\n",
    "name = input(\"Enter name  = \").lower()\n",
    "if name in a:\n",
    "    print(\"Yes\")\n",
    "    print(a.count(name))\n",
    "else:\n",
    "    print(\"No\")"
   ]
  },
  {
   "cell_type": "code",
   "execution_count": null,
   "id": "29081b17",
   "metadata": {},
   "outputs": [],
   "source": [
    "a = \"python\"\n",
    "print(len(a))"
   ]
  },
  {
   "cell_type": "code",
   "execution_count": null,
   "id": "52069c6c",
   "metadata": {},
   "outputs": [],
   "source": [
    "def string_length(str1):\n",
    "    count = 0\n",
    "    for char in str1:\n",
    "        count +=1\n",
    "    return count\n",
    "print(string_length(\"I am Full stack developer\"))"
   ]
  },
  {
   "cell_type": "code",
   "execution_count": null,
   "id": "535083fe",
   "metadata": {},
   "outputs": [],
   "source": [
    "num = input(\"Enter a Sentence\")\n",
    "def string_length(str1):\n",
    "    count = 0\n",
    "    for char in str1:\n",
    "        count +=1\n",
    "    return count\n",
    "print(string_length(num))"
   ]
  },
  {
   "cell_type": "code",
   "execution_count": 1,
   "id": "6beaf452",
   "metadata": {},
   "outputs": [
    {
     "name": "stdout",
     "output_type": "stream",
     "text": [
      "{'g': 2, 'o': 3, 'l': 1, 'e': 1, '.': 1, 'c': 1, 'm': 1}\n"
     ]
    }
   ],
   "source": [
    "def char_frequency(str1):\n",
    "    dict={}\n",
    "    for n in str1:\n",
    "        keys = dict.keys()\n",
    "        if n in keys:\n",
    "            dict[n] += 1\n",
    "        else:\n",
    "            dict[n] = 1\n",
    "    return dict\n",
    "print(char_frequency(\"google.com\"))\n"
   ]
  },
  {
   "cell_type": "code",
   "execution_count": null,
   "id": "fe8927a7",
   "metadata": {},
   "outputs": [],
   "source": [
    "num = input(\"Enter a Sentence \")\n",
    "def char_frequency(str1):\n",
    "    dict={}\n",
    "    for n in str1:\n",
    "        keys = dict.keys()\n",
    "        if n in keys:\n",
    "            dict[n] += 1\n",
    "        else:\n",
    "            dict[n] = 1\n",
    "    return dict\n",
    "print(char_frequency(num))"
   ]
  },
  {
   "cell_type": "code",
   "execution_count": null,
   "id": "29aabb9e",
   "metadata": {},
   "outputs": [],
   "source": [
    "a = \"W3resources\"\n",
    "print(a[0:2])"
   ]
  },
  {
   "cell_type": "code",
   "execution_count": 2,
   "id": "32be7578",
   "metadata": {},
   "outputs": [
    {
     "name": "stdout",
     "output_type": "stream",
     "text": [
      "I er\n",
      "Pyer\n"
     ]
    }
   ],
   "source": [
    "def string_both_end(str):\n",
    "    if len(str) < 2:\n",
    "        return ''\n",
    "    return str[0:2] + str[-2:]\n",
    "print(string_both_end(\"I am Full Stack Developer\"))\n",
    "print(string_both_end(\"Python Developer\"))"
   ]
  },
  {
   "cell_type": "code",
   "execution_count": null,
   "id": "d9a7f934",
   "metadata": {},
   "outputs": [],
   "source": [
    "num = input(\"Enter a Sentence!\")\n",
    "def string_both_end(str):\n",
    "    if len(str) < 2:\n",
    "        return ''\n",
    "    return str[0:2] + str[-2:]\n",
    "print(string_both_end(num))"
   ]
  },
  {
   "cell_type": "code",
   "execution_count": null,
   "id": "e31ce709",
   "metadata": {},
   "outputs": [],
   "source": [
    "a = \"restart\"\n",
    "b = a[3]\n",
    "print(b.replace(a, \"a\"))"
   ]
  },
  {
   "cell_type": "code",
   "execution_count": null,
   "id": "864f2791",
   "metadata": {},
   "outputs": [],
   "source": [
    "def change_char(str1):\n",
    "    char = str1[0]\n",
    "    str1 = str1.replace(char, '$')\n",
    "    str1 = char + str1[1:]\n",
    "    return str1\n",
    "print(change_char('restart'))"
   ]
  },
  {
   "cell_type": "code",
   "execution_count": null,
   "id": "49b05412",
   "metadata": {},
   "outputs": [],
   "source": [
    "num = input(\"Enter  A Word   \")\n",
    "def change(str1):\n",
    "    char = str1[0]\n",
    "    str1 = str1.replace(char, \"*\")\n",
    "    str1 = char + str1[1:]\n",
    "    return str1\n",
    "print(change(num))"
   ]
  },
  {
   "cell_type": "code",
   "execution_count": null,
   "id": "445a2c77",
   "metadata": {},
   "outputs": [],
   "source": [
    "a, b = \"abc\", \"xyz\"\n",
    "new_a = b[:2]\n",
    "new_aa = a[2:]\n",
    "new_b = a[:2]\n",
    "new_bb = b[2:]\n",
    "print(new_a+new_aa+new_b+new_bb)"
   ]
  },
  {
   "cell_type": "code",
   "execution_count": null,
   "id": "efbeb54e",
   "metadata": {},
   "outputs": [],
   "source": [
    "def chars_mix(a,b):\n",
    "    new_a = b[:2] + a[2:]\n",
    "    new_b = a[:2] + b[2:]\n",
    "    \n",
    "    return new_a + \" \" + new_b\n",
    "print(chars_mix('abc', 'xyz'))"
   ]
  },
  {
   "cell_type": "code",
   "execution_count": null,
   "id": "17609700",
   "metadata": {},
   "outputs": [],
   "source": [
    "def chars_mix(a,b):\n",
    "    new_a = b[:3] + a[3:]\n",
    "    new_b = a[:3] + b[3:]\n",
    "    return new_a + \"\" + new_b\n",
    "print(chars_mix('abcd','wxyz'))"
   ]
  },
  {
   "cell_type": "code",
   "execution_count": 4,
   "id": "94030826",
   "metadata": {},
   "outputs": [
    {
     "name": "stdout",
     "output_type": "stream",
     "text": [
      "Enter a wordasdf\n",
      "Enter a word ghjk\n",
      "ghdfasjk\n"
     ]
    }
   ],
   "source": [
    "a = input(\"Enter a word\")\n",
    "b = input(\"Enter a word \")\n",
    "def chars_mix(a,b):\n",
    "    new_a = b[:2] + a[2:]\n",
    "    new_b = a[:2] + b[2:]\n",
    "    return new_a+ \"\"+ new_b\n",
    "print(chars_mix(a,b))"
   ]
  },
  {
   "cell_type": "code",
   "execution_count": 6,
   "id": "5ad0c28e",
   "metadata": {},
   "outputs": [
    {
     "name": "stdout",
     "output_type": "stream",
     "text": [
      "ab\n",
      "abcing\n",
      "stringly\n"
     ]
    }
   ],
   "source": [
    "def add_string(str1):\n",
    "    length = len(str1)\n",
    "    \n",
    "    if length > 2:\n",
    "        if str1[-3:] == 'ing':\n",
    "            str1 += 'ly'\n",
    "        else:\n",
    "            str1 +='ing'\n",
    "    return str1\n",
    "print(add_string('ab'))\n",
    "print(add_string('abc'))\n",
    "print(add_string('string'))"
   ]
  },
  {
   "cell_type": "code",
   "execution_count": 9,
   "id": "a949ab37",
   "metadata": {},
   "outputs": [
    {
     "name": "stdout",
     "output_type": "stream",
     "text": [
      "Enter a wordading\n",
      "adingly\n"
     ]
    }
   ],
   "source": [
    "num = input(\"Enter a word\")\n",
    "def add_string(str1):\n",
    "    length = len(str1)\n",
    "    \n",
    "    if length >2:\n",
    "        if str1[-3:] == 'ing':\n",
    "            str1 += 'ly'\n",
    "        else:\n",
    "            str1 += 'ing'\n",
    "    return str1\n",
    "print(add_string(num))"
   ]
  },
  {
   "cell_type": "code",
   "execution_count": 10,
   "id": "26756106",
   "metadata": {},
   "outputs": [
    {
     "ename": "SyntaxError",
     "evalue": "invalid syntax (3071820896.py, line 4)",
     "output_type": "error",
     "traceback": [
      "\u001b[1;36m  Cell \u001b[1;32mIn[10], line 4\u001b[1;36m\u001b[0m\n\u001b[1;33m    if not or poor:\u001b[0m\n\u001b[1;37m           ^\u001b[0m\n\u001b[1;31mSyntaxError\u001b[0m\u001b[1;31m:\u001b[0m invalid syntax\n"
     ]
    }
   ],
   "source": [
    "a = \"The lyrics in not that poor!\"\n",
    "def change(str1):\n",
    "    if str1 in a:\n",
    "        if not or poor:\n",
    "            print(\"good\")\n",
    "        else:\n",
    "            print('')\n",
    "    return str1\n",
    "print(change(a))"
   ]
  },
  {
   "cell_type": "code",
   "execution_count": 12,
   "id": "acd3fc95",
   "metadata": {},
   "outputs": [
    {
     "name": "stdout",
     "output_type": "stream",
     "text": [
      "The lyrics is good!\n",
      "The lyrics is poor!\n"
     ]
    }
   ],
   "source": [
    "def not_poor(str1):\n",
    "    snot = str1.find('not')\n",
    "    spoor = str1.find('poor')\n",
    "    \n",
    "    \n",
    "    if spoor > snot and snot > 0 and spoor > 0:\n",
    "        str1 = str1.replace(str1[snot:(spoor+4)], 'good')\n",
    "        return str1\n",
    "    else:\n",
    "        return str1\n",
    "print(not_poor(\"The lyrics is not that poor!\"))\n",
    "print(not_poor(\"The lyrics is poor!\"))"
   ]
  },
  {
   "cell_type": "code",
   "execution_count": 5,
   "id": "28cb699c",
   "metadata": {},
   "outputs": [
    {
     "name": "stdout",
     "output_type": "stream",
     "text": [
      "\n",
      "Longest word:  Exercises\n",
      "Length of the longest word:  9\n"
     ]
    }
   ],
   "source": [
    "def find_longest_word(world_list):\n",
    "    word_len = []\n",
    "    for n in world_list:\n",
    "        word_len.append((len(n), n))\n",
    "    word_len.sort()\n",
    "    return word_len[-1][0], word_len[-1][1]\n",
    "result = find_longest_word([\"PHP\", \"Exercises\", \"Backend\"])\n",
    "print(\"\\nLongest word: \", result[1])\n",
    "print(\"Length of the longest word: \", result[0])"
   ]
  },
  {
   "cell_type": "code",
   "execution_count": 8,
   "id": "67413261",
   "metadata": {},
   "outputs": [
    {
     "name": "stdout",
     "output_type": "stream",
     "text": [
      "Enter A full sentence!hdsajh a asjhfa  eiu fa\n",
      "\n",
      "Longest word!  hdsajh a asjhfa  eiu fa\n",
      "Length of the longest word:  23\n"
     ]
    }
   ],
   "source": [
    "num = input(\"Enter A full sentence!\")\n",
    "def find_longest_word(word_list):\n",
    "    word_len = []\n",
    "    for n in word_list:\n",
    "        word_len.append((len(n), n))\n",
    "    word_len.sort()\n",
    "    return word_len[-1][0], word_len[-1][1]\n",
    "result = find_longest_word([num])\n",
    "print(\"\\nLongest word! \", result[1])\n",
    "print(\"Length of the longest word: \", result[0])"
   ]
  },
  {
   "cell_type": "code",
   "execution_count": 13,
   "id": "ea6fa891",
   "metadata": {},
   "outputs": [
    {
     "name": "stdout",
     "output_type": "stream",
     "text": [
      "ython\n",
      "Pyton\n",
      "Pytho\n"
     ]
    }
   ],
   "source": [
    "def remove_char(str,n):\n",
    "    first_part= str[:n]\n",
    "    last_part = str[n+1:]\n",
    "    return first_part + last_part\n",
    "print(remove_char('Python', 0))\n",
    "print(remove_char('Python', 3))\n",
    "print(remove_char('Python', 5))"
   ]
  },
  {
   "cell_type": "code",
   "execution_count": 14,
   "id": "9307799f",
   "metadata": {},
   "outputs": [
    {
     "name": "stdout",
     "output_type": "stream",
     "text": [
      "Enter a word! qwewqqq\n",
      "wewqqq\n",
      "qweqqq\n",
      "qwewqq\n"
     ]
    }
   ],
   "source": [
    "num = input(\"Enter a word! \")\n",
    "def remove_char(str,num):\n",
    "    first_part = str[:num]\n",
    "    last_part = str[num+1:]\n",
    "    return first_part + last_part\n",
    "print(remove_char(num, 0))\n",
    "print(remove_char(num, 3))\n",
    "print(remove_char(num, 5))"
   ]
  },
  {
   "cell_type": "code",
   "execution_count": 15,
   "id": "b2df0fb1",
   "metadata": {},
   "outputs": [
    {
     "name": "stdout",
     "output_type": "stream",
     "text": [
      "dbca\n",
      "52341\n"
     ]
    }
   ],
   "source": [
    "def change_string(str1):\n",
    "    return str1[-1:] + str1[1:-1] + str1[:1]\n",
    "print(change_string('abcd'))\n",
    "print(change_string('12345'))"
   ]
  },
  {
   "cell_type": "code",
   "execution_count": 18,
   "id": "8ea1b286",
   "metadata": {},
   "outputs": [
    {
     "name": "stdout",
     "output_type": "stream",
     "text": [
      "Enter a word and number but valid chutiya \n",
      "gfdfee\n",
      "efdfeg\n"
     ]
    }
   ],
   "source": [
    "num = input(\"Enter a word or number but valid chutiya \\n\")\n",
    "def change_string(str1):\n",
    "    return str1[-1:] + str1[1:-1] + str1[:1]\n",
    "print(change_string(num))"
   ]
  },
  {
   "cell_type": "code",
   "execution_count": 23,
   "id": "1f8b85d7",
   "metadata": {},
   "outputs": [
    {
     "name": "stdout",
     "output_type": "stream",
     "text": [
      "ddf\n",
      "yhn\n"
     ]
    }
   ],
   "source": [
    "def odd_values_string(str):\n",
    "    result = \"\"\n",
    "    for i in range(len(str)):\n",
    "        if i % 2 == 1:\n",
    "            result = result + str[i]\n",
    "    return result\n",
    "print(odd_values_string('adcdef'))\n",
    "print(odd_values_string('python'))"
   ]
  },
  {
   "cell_type": "code",
   "execution_count": 24,
   "id": "1d1eba24",
   "metadata": {},
   "outputs": [
    {
     "name": "stdout",
     "output_type": "stream",
     "text": [
      "Enter a word!serthjk\n",
      "etj\n"
     ]
    }
   ],
   "source": [
    "num = input(\"Enter a word!\")\n",
    "def even(str):\n",
    "    result = \"\"\n",
    "    for i in range(len(str)):\n",
    "        if i % 2 == 1:\n",
    "            result = result + str[i]\n",
    "    return result\n",
    "print(even(num))"
   ]
  },
  {
   "cell_type": "code",
   "execution_count": 25,
   "id": "1bfeb788",
   "metadata": {},
   "outputs": [
    {
     "name": "stdout",
     "output_type": "stream",
     "text": [
      "{'the': 2, 'quick': 1, 'brown': 1, 'fox': 1, 'jumps': 1, 'over': 1, 'lazy': 1, 'dog': 1}\n"
     ]
    }
   ],
   "source": [
    "def word_count(str):\n",
    "    counts = dict()\n",
    "    words = str.split()\n",
    "    \n",
    "    for word in words:\n",
    "        if word in counts:\n",
    "            counts[word] +=1\n",
    "        else:\n",
    "            counts[word] = 1\n",
    "    return counts\n",
    "print(word_count(\"the quick brown fox jumps over the lazy dog\"))"
   ]
  },
  {
   "cell_type": "code",
   "execution_count": 26,
   "id": "f9beac22",
   "metadata": {},
   "outputs": [
    {
     "name": "stdout",
     "output_type": "stream",
     "text": [
      "Enter a full sentence! I am full stack developer. I will get the job very sonn\n",
      "{'I': 2, 'am': 1, 'full': 1, 'stack': 1, 'developer.': 1, 'will': 1, 'get': 1, 'the': 1, 'job': 1, 'very': 1, 'sonn': 1}\n"
     ]
    }
   ],
   "source": [
    "num = input(\"Enter a full sentence! \")\n",
    "def word_count(str):\n",
    "    counts = dict()\n",
    "    words = str.split()\n",
    "    \n",
    "    for word in words:\n",
    "        if word in counts:\n",
    "            counts[word] +=1\n",
    "        else:\n",
    "            counts[word] = 1\n",
    "    return counts\n",
    "print(word_count(num))"
   ]
  },
  {
   "cell_type": "code",
   "execution_count": 32,
   "id": "35bd9b11",
   "metadata": {},
   "outputs": [
    {
     "name": "stdout",
     "output_type": "stream",
     "text": [
      "Enter a wordafew\n",
      "AFEW\n",
      "afew\n"
     ]
    }
   ],
   "source": [
    "num = input(\"Enter a word\")\n",
    "n = num.upper()\n",
    "a = n.lower()\n",
    "print(n)\n",
    "print(a)"
   ]
  },
  {
   "cell_type": "code",
   "execution_count": 36,
   "id": "f64c30f7",
   "metadata": {},
   "outputs": [
    {
     "name": "stdout",
     "output_type": "stream",
     "text": [
      "Enter a word ewf jk a kj a sakjl  ak \n",
      "ewf jk a kj a sakjl  ak \n"
     ]
    }
   ],
   "source": [
    "num = input(\"Enter a word \")\n",
    "words = [word for word in num.split(\",\")]\n",
    "print(\",\".join(sorted(list(words))))"
   ]
  },
  {
   "cell_type": "code",
   "execution_count": null,
   "id": "b13a18c8",
   "metadata": {},
   "outputs": [],
   "source": []
  },
  {
   "cell_type": "code",
   "execution_count": null,
   "id": "a5a4f120",
   "metadata": {},
   "outputs": [],
   "source": []
  },
  {
   "cell_type": "code",
   "execution_count": null,
   "id": "606415cd",
   "metadata": {},
   "outputs": [],
   "source": []
  },
  {
   "cell_type": "code",
   "execution_count": null,
   "id": "0b5a800e",
   "metadata": {},
   "outputs": [],
   "source": []
  },
  {
   "cell_type": "code",
   "execution_count": null,
   "id": "724c36c6",
   "metadata": {},
   "outputs": [],
   "source": []
  },
  {
   "cell_type": "code",
   "execution_count": null,
   "id": "020bbd9a",
   "metadata": {},
   "outputs": [],
   "source": []
  }
 ],
 "metadata": {
  "kernelspec": {
   "display_name": "Python 3 (ipykernel)",
   "language": "python",
   "name": "python3"
  },
  "language_info": {
   "codemirror_mode": {
    "name": "ipython",
    "version": 3
   },
   "file_extension": ".py",
   "mimetype": "text/x-python",
   "name": "python",
   "nbconvert_exporter": "python",
   "pygments_lexer": "ipython3",
   "version": "3.10.9"
  }
 },
 "nbformat": 4,
 "nbformat_minor": 5
}
