{
 "cells": [
  {
   "cell_type": "code",
   "execution_count": 1,
   "id": "07edbc26",
   "metadata": {},
   "outputs": [
    {
     "name": "stdout",
     "output_type": "stream",
     "text": [
      "Enter a =6\n",
      "This is a even no\n"
     ]
    }
   ],
   "source": [
    "a = int(input(\"Enter a =\"))\n",
    "if  a % 2 == 0:\n",
    "    print(\"This is a even no\")\n",
    "else:\n",
    "    print(\"This is a odd no\")"
   ]
  },
  {
   "cell_type": "code",
   "execution_count": 3,
   "id": "0b0e6d3a",
   "metadata": {},
   "outputs": [
    {
     "name": "stdout",
     "output_type": "stream",
     "text": [
      "Enter a =6\n",
      "Enter b =6\n",
      "Both are equal\n"
     ]
    }
   ],
   "source": [
    "a = int(input(\"Enter a =\"))\n",
    "b = int(input(\"Enter b =\"))\n",
    "if a > b:\n",
    "    print(a,\" is greater\")\n",
    "elif b > a:\n",
    "    print(b, \"is greater\")\n",
    "else:\n",
    "    print(\"Both are equal\")"
   ]
  },
  {
   "cell_type": "code",
   "execution_count": null,
   "id": "9a3e8150",
   "metadata": {},
   "outputs": [],
   "source": []
  },
  {
   "cell_type": "code",
   "execution_count": 7,
   "id": "c6235d94",
   "metadata": {
    "scrolled": true
   },
   "outputs": [
    {
     "name": "stdout",
     "output_type": "stream",
     "text": [
      "Enter a =5\n",
      "Enter b =0\n",
      "Enter + or - or * or //\n",
      "The value of b can not be zero\n"
     ]
    }
   ],
   "source": [
    "a = int(input(\"Enter a =\"))\n",
    "b = int(input(\"Enter b =\"))\n",
    "o = input(\"Enter + or - or * or /\")\n",
    "if o == \"+\":\n",
    "    print(a+b)\n",
    "elif o == \"-\":\n",
    "    print(a-b)\n",
    "elif o == \"*\":\n",
    "    print(a*b)\n",
    "elif o == \"/\" and b != 0:\n",
    "    print(a/b)\n",
    "elif o == \"/\" and b == 0:\n",
    "    print(\"The value of b can not be zero\")\n",
    "else:\n",
    "    print(\"Invalid Error\")"
   ]
  },
  {
   "cell_type": "code",
   "execution_count": null,
   "id": "93f1ef2f",
   "metadata": {},
   "outputs": [],
   "source": [
    "phy = int(input(\"Enter marks =\"))\n",
    "sci = int(input(\"Enter marks =\"))\n",
    "hel = int(input(\"Enter marks =\"))\n",
    "eng = int(input(\"Enter marks =\"))\n",
    "nep = int(input(\"Enter marks = \"))\n",
    "\n",
    "\n",
    "if phy >=32 and sci >=32 and hel >=32 and eng >=32 and nep >=32:\n",
    "    grade = \"fail\"\n",
    "    per = 0\n",
    "    total = phy+sci+hel+eng+nep\n",
    "    print(\"The total is\", total)\n",
    "    print(\"The per is\", per)\n",
    "    per = total/5\n",
    "    if per > 80 or per == 80:\n",
    "        grade = \"A\"\n",
    "    elif per >=60:\n",
    "        grade = \"B\"\n",
    "    elif per >=45:\n",
    "        grade = \"C\"\n",
    "    else:\n",
    "        grade = \"F\"\n",
    "    \n",
    "    print(\"The grade is\", grade)\n",
    "else:\n",
    "    print(\"You are fail\")"
   ]
  },
  {
   "cell_type": "code",
   "execution_count": null,
   "id": "c13498a9",
   "metadata": {},
   "outputs": [],
   "source": []
  },
  {
   "cell_type": "code",
   "execution_count": null,
   "id": "c125de44",
   "metadata": {},
   "outputs": [],
   "source": []
  }
 ],
 "metadata": {
  "kernelspec": {
   "display_name": "Python 3 (ipykernel)",
   "language": "python",
   "name": "python3"
  },
  "language_info": {
   "codemirror_mode": {
    "name": "ipython",
    "version": 3
   },
   "file_extension": ".py",
   "mimetype": "text/x-python",
   "name": "python",
   "nbconvert_exporter": "python",
   "pygments_lexer": "ipython3",
   "version": "3.10.9"
  }
 },
 "nbformat": 4,
 "nbformat_minor": 5
}
