{
 "cells": [
  {
   "cell_type": "code",
   "execution_count": null,
   "id": "82ff68a5",
   "metadata": {},
   "outputs": [],
   "source": [
    "# def <function_name>():\n",
    "#     <operation>\n",
    "# <function_name>()"
   ]
  },
  {
   "cell_type": "code",
   "execution_count": 1,
   "id": "16e255ac",
   "metadata": {},
   "outputs": [
    {
     "name": "stdout",
     "output_type": "stream",
     "text": [
      "Hello World!\n"
     ]
    }
   ],
   "source": [
    "# user defined function\n",
    "def hello():         #defining function\n",
    "    print(\"Hello World!\")\n",
    "hello()                #colling function"
   ]
  },
  {
   "cell_type": "code",
   "execution_count": 3,
   "id": "9d5b7625",
   "metadata": {},
   "outputs": [
    {
     "name": "stdout",
     "output_type": "stream",
     "text": [
      "Enter l =4\n",
      "Enter b =3\n",
      "Enter h =3\n",
      "36 m^3\n"
     ]
    }
   ],
   "source": [
    "def cal():\n",
    "    global l,b,h # it is global variable even inside the function\n",
    "    l = int(input(\"Enter l =\")) # local variable define inside the function eg = l\n",
    "    b = int(input(\"Enter b =\")) # local variable define inside the function eg = b\n",
    "    h = int(input(\"Enter h =\")) # local variable define inside the function eg = h\n",
    "    v = l*b*h\n",
    "    print(v,\"m^3\")\n",
    "cal()"
   ]
  },
  {
   "cell_type": "markdown",
   "id": "431a1469",
   "metadata": {},
   "source": [
    "l = int(input(\"Enter l =\")) #global variable define outside that can be used in any where\n",
    "b = int(input(\"Enter b =\"))\n",
    "h = int(input(\"Enter h =\"))\n",
    "def cal():\n"
   ]
  },
  {
   "cell_type": "code",
   "execution_count": null,
   "id": "dd53277f",
   "metadata": {},
   "outputs": [],
   "source": [
    "# pre defined function\n",
    "# print() input() int() list() tuple() dict() set() str()"
   ]
  },
  {
   "cell_type": "code",
   "execution_count": null,
   "id": "1ccb7a60",
   "metadata": {},
   "outputs": [],
   "source": [
    "# function without argument and no return type\n",
    "# function with argument and no return type\n",
    "# function without orgument and return type\n",
    "# function with argument and return type"
   ]
  },
  {
   "cell_type": "code",
   "execution_count": null,
   "id": "07d48047",
   "metadata": {},
   "outputs": [],
   "source": [
    "# function without argument and no return type\n",
    "def hello():\n",
    "    print(\"Hello World!\")\n",
    "hello()"
   ]
  },
  {
   "cell_type": "code",
   "execution_count": null,
   "id": "3f60ce20",
   "metadata": {},
   "outputs": [],
   "source": [
    "#function with argument and no return type\n",
    "def hello():\n",
    "    print(\"Hello World!\")\n",
    "hello(\"Hello World!\")"
   ]
  },
  {
   "cell_type": "code",
   "execution_count": 5,
   "id": "a46cb652",
   "metadata": {},
   "outputs": [
    {
     "name": "stdout",
     "output_type": "stream",
     "text": [
      "Enter l = 4\n",
      "Enter b =4\n",
      "Enter h = 4\n",
      "64 m^3\n"
     ]
    }
   ],
   "source": [
    "#function with argument and no return type\n",
    "def cal(l,b,h):            #l,b,h=> parameter\n",
    "    v = l*b*h\n",
    "    print(v,\"m^3\")\n",
    "    \n",
    "l = int(input(\"Enter l = \")) #global variable\n",
    "b = int(input(\"Enter b =\")) #global variable\n",
    "h = int(input(\"Enter h = \")) #global variable\n",
    "cal(l,b,h)                   # l,b,h=>argument\n"
   ]
  },
  {
   "cell_type": "code",
   "execution_count": 7,
   "id": "7b43b212",
   "metadata": {},
   "outputs": [
    {
     "name": "stdout",
     "output_type": "stream",
     "text": [
      "Enter l = 4\n",
      "Enter b = 4\n",
      "Enter h = 4\n",
      "64 m^3\n"
     ]
    }
   ],
   "source": [
    "def cal(x):\n",
    "    l = x[0]\n",
    "    b = x[1]\n",
    "    h = x[2]\n",
    "    v = l*b*h\n",
    "    print(v,\"m^3\")\n",
    "l = int(input(\"Enter l = \"))\n",
    "b = int(input(\"Enter b = \"))\n",
    "h = int(input(\"Enter h = \"))\n",
    "x = [l,b,h]\n",
    "cal(x)"
   ]
  },
  {
   "cell_type": "code",
   "execution_count": 8,
   "id": "564f8726",
   "metadata": {},
   "outputs": [
    {
     "name": "stdout",
     "output_type": "stream",
     "text": [
      "C\n",
      "C++\n",
      "Java\n",
      "python\n"
     ]
    }
   ],
   "source": [
    "def information(info = \"python\"):\n",
    "    print(info)\n",
    "    \n",
    "information(\"C\")\n",
    "information(\"C++\")  # main priority to the argument than defalut value\n",
    "information(\"Java\")\n",
    "information()\n"
   ]
  },
  {
   "cell_type": "code",
   "execution_count": 11,
   "id": "a7bf1da8",
   "metadata": {},
   "outputs": [
    {
     "name": "stdout",
     "output_type": "stream",
     "text": [
      "5\n"
     ]
    }
   ],
   "source": [
    "def max_of_two(x,y):\n",
    "    if x > y:\n",
    "        return x\n",
    "    return y\n",
    "print(max_of_two(4,5))"
   ]
  },
  {
   "cell_type": "code",
   "execution_count": 12,
   "id": "90e7e1da",
   "metadata": {},
   "outputs": [
    {
     "name": "stdout",
     "output_type": "stream",
     "text": [
      "Z is greater\n"
     ]
    }
   ],
   "source": [
    "def max_of_three(x,y,z):\n",
    "    if x > y:\n",
    "        print(\"X is greater\")\n",
    "    elif y > z:\n",
    "        print(\"Y is greater\")\n",
    "    else:\n",
    "        print(\"Z is greater\")\n",
    "max_of_three(4,5,6)"
   ]
  },
  {
   "cell_type": "code",
   "execution_count": 13,
   "id": "ddf7707c",
   "metadata": {},
   "outputs": [
    {
     "name": "stdout",
     "output_type": "stream",
     "text": [
      "Y is greater\n"
     ]
    }
   ],
   "source": [
    "def max_of_two(x,y):\n",
    "    if x > y:\n",
    "        print(\"X is greater\")\n",
    "    else:\n",
    "        print(\"Y is greater\")\n",
    "max_of_two(4,6)"
   ]
  },
  {
   "cell_type": "code",
   "execution_count": 15,
   "id": "8adec6c0",
   "metadata": {},
   "outputs": [
    {
     "name": "stdout",
     "output_type": "stream",
     "text": [
      "Enter a number! 4\n",
      "Enter a number! 5\n",
      "Enter a number! 3\n",
      "Y is the greatest \n"
     ]
    }
   ],
   "source": [
    "x = int(input(\"Enter a number! \"))\n",
    "y = int(input(\"Enter a number! \"))\n",
    "z = int(input(\"Enter a number! \"))\n",
    "def max_of_three(x,y,z):\n",
    "    if x > y:\n",
    "        print(\"X is the greatest\")\n",
    "    elif y > z:\n",
    "        print(\"Y is the greatest \")\n",
    "    else:\n",
    "        print(\"Z is the greatest\")\n",
    "max_of_three(x,y,z)"
   ]
  },
  {
   "cell_type": "code",
   "execution_count": null,
   "id": "728848b2",
   "metadata": {},
   "outputs": [],
   "source": []
  },
  {
   "cell_type": "code",
   "execution_count": null,
   "id": "8fcc8f9a",
   "metadata": {},
   "outputs": [],
   "source": []
  },
  {
   "cell_type": "code",
   "execution_count": null,
   "id": "c1238971",
   "metadata": {},
   "outputs": [],
   "source": []
  },
  {
   "cell_type": "code",
   "execution_count": null,
   "id": "316d4e2b",
   "metadata": {},
   "outputs": [],
   "source": []
  },
  {
   "cell_type": "code",
   "execution_count": null,
   "id": "a463d410",
   "metadata": {},
   "outputs": [],
   "source": []
  },
  {
   "cell_type": "code",
   "execution_count": null,
   "id": "a73a512c",
   "metadata": {},
   "outputs": [],
   "source": []
  },
  {
   "cell_type": "code",
   "execution_count": null,
   "id": "700d193b",
   "metadata": {},
   "outputs": [],
   "source": []
  },
  {
   "cell_type": "code",
   "execution_count": null,
   "id": "840f768d",
   "metadata": {},
   "outputs": [],
   "source": []
  },
  {
   "cell_type": "code",
   "execution_count": null,
   "id": "3ee1f60a",
   "metadata": {},
   "outputs": [],
   "source": []
  }
 ],
 "metadata": {
  "kernelspec": {
   "display_name": "Python 3 (ipykernel)",
   "language": "python",
   "name": "python3"
  },
  "language_info": {
   "codemirror_mode": {
    "name": "ipython",
    "version": 3
   },
   "file_extension": ".py",
   "mimetype": "text/x-python",
   "name": "python",
   "nbconvert_exporter": "python",
   "pygments_lexer": "ipython3",
   "version": "3.10.9"
  }
 },
 "nbformat": 4,
 "nbformat_minor": 5
}
