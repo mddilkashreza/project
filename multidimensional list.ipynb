{
 "cells": [
  {
   "cell_type": "code",
   "execution_count": null,
   "id": "49eceedc",
   "metadata": {},
   "outputs": [],
   "source": [
    "# list inside list\n",
    "l = [[1,2,3,],[4,5,6],[7,8,9]]\n",
    "print(type(l))\n",
    "print(l[0])\n",
    "print(l[0][0])"
   ]
  },
  {
   "cell_type": "code",
   "execution_count": null,
   "id": "7e2e47a1",
   "metadata": {},
   "outputs": [],
   "source": [
    "info =[[\"Ram\",34,\"kathmandu\"],[\"Shyam\",54,\"Tinkune\"],[\"Hari\",33,\"Lalitpur\"]]\n",
    "print(info)\n",
    "info[0]"
   ]
  },
  {
   "cell_type": "code",
   "execution_count": 3,
   "id": "6999724c",
   "metadata": {},
   "outputs": [
    {
     "name": "stdout",
     "output_type": "stream",
     "text": [
      "Enter a word3\n",
      "Enter name =dilkash\n",
      "Enter age 21\n",
      "Enter add tinkune\n",
      "Enter name =sushil\n",
      "Enter age 22\n",
      "Enter add kathmandu\n",
      "Enter name =sushant\n",
      "Enter age 23\n",
      "Enter add gau\n",
      "[['dilkash', 21, 'tinkune'], ['sushil', 22, 'kathmandu'], ['sushant', 23, 'gau']]\n"
     ]
    }
   ],
   "source": [
    "l = []\n",
    "n = int(input(\"Enter a word\"))\n",
    "for i in range(n):\n",
    "    name = input(\"Enter name =\")\n",
    "    age = int(input(\"Enter age \"))\n",
    "    address = input(\"Enter add \")\n",
    "    l.append([name,age,address])\n",
    "print(l)\n",
    "    "
   ]
  },
  {
   "cell_type": "code",
   "execution_count": 10,
   "id": "a73faab0",
   "metadata": {},
   "outputs": [
    {
     "name": "stdout",
     "output_type": "stream",
     "text": [
      "[['Ramu', 34, 'kathmandu'], ['Shyam', 54, 'Tinkune'], ['Hari', 33, 'Lalitpur']]\n"
     ]
    }
   ],
   "source": [
    "info =[[\"Ram\",34,\"kathmandu\"],[\"Shyam\",54,\"Tinkune\"],[\"Hari\",33,\"Lalitpur\"]]\n",
    "info[0][0] = \"Ramu\"\n",
    "print(info)"
   ]
  },
  {
   "cell_type": "code",
   "execution_count": 12,
   "id": "e6c89aae",
   "metadata": {},
   "outputs": [
    {
     "name": "stdout",
     "output_type": "stream",
     "text": [
      "[['Shyam', 54, 'Tinkune'], ['Hari', 33, 'Lalitpur']]\n"
     ]
    }
   ],
   "source": [
    "info =[[\"Ram\",34,\"kathmandu\"],[\"Shyam\",54,\"Tinkune\"],[\"Hari\",33,\"Lalitpur\"]]\n",
    "del info[0]\n",
    "print(info)"
   ]
  },
  {
   "cell_type": "code",
   "execution_count": 13,
   "id": "68352fb9",
   "metadata": {},
   "outputs": [
    {
     "name": "stdout",
     "output_type": "stream",
     "text": [
      "Enter name =Ram\n",
      "['Ram', 34, 'kathmandu']\n"
     ]
    }
   ],
   "source": [
    "info =[[\"Ram\",34,\"kathmandu\"],[\"Shyam\",54,\"Tinkune\"],[\"Hari\",33,\"Lalitpur\"]]\n",
    "name = input(\"Enter name =\")\n",
    "for i in info:\n",
    "    if name in i:\n",
    "        print(i)\n"
   ]
  },
  {
   "cell_type": "code",
   "execution_count": 15,
   "id": "26c3de0b",
   "metadata": {},
   "outputs": [
    {
     "name": "stdout",
     "output_type": "stream",
     "text": [
      "Enter name =ram\n",
      "['Ram', 34, 'kathmandu']\n"
     ]
    }
   ],
   "source": [
    "info =[[\"Ram\",34,\"kathmandu\"],[\"Shyam\",54,\"Tinkune\"],[\"Hari\",33,\"Lalitpur\"]]\n",
    "name = input(\"Enter name =\")\n",
    "for i in info:\n",
    "    if i[0].upper() == name.upper():\n",
    "        print(i)\n",
    "            "
   ]
  },
  {
   "cell_type": "code",
   "execution_count": 18,
   "id": "1aa0895a",
   "metadata": {},
   "outputs": [
    {
     "name": "stdout",
     "output_type": "stream",
     "text": [
      "<class 'tuple'>\n"
     ]
    }
   ],
   "source": [
    "a = (\"m\",)\n",
    "print(type(a))"
   ]
  },
  {
   "cell_type": "code",
   "execution_count": 19,
   "id": "79df98f6",
   "metadata": {},
   "outputs": [
    {
     "name": "stdout",
     "output_type": "stream",
     "text": [
      "Enter n =2\n",
      "Enter x2\n",
      "Enter x2\n",
      "(2, 2)\n"
     ]
    }
   ],
   "source": [
    "t = ()\n",
    "n = int(input(\"Enter n =\"))\n",
    "for i in range(n):\n",
    "    x = int(input(\"Enter x\"))\n",
    "    t = t + (x,)\n",
    "print(t)"
   ]
  },
  {
   "cell_type": "code",
   "execution_count": 21,
   "id": "28c3db15",
   "metadata": {},
   "outputs": [
    {
     "ename": "TypeError",
     "evalue": "'types.GenericAlias' object does not support item deletion",
     "output_type": "error",
     "traceback": [
      "\u001b[1;31m---------------------------------------------------------------------------\u001b[0m",
      "\u001b[1;31mTypeError\u001b[0m                                 Traceback (most recent call last)",
      "Cell \u001b[1;32mIn[21], line 3\u001b[0m\n\u001b[0;32m      1\u001b[0m a \u001b[38;5;241m=\u001b[39m (\u001b[38;5;241m234\u001b[39m,\u001b[38;5;241m434\u001b[39m,\u001b[38;5;241m532\u001b[39m,\u001b[38;5;241m533\u001b[39m,\u001b[38;5;241m133\u001b[39m)\n\u001b[0;32m      2\u001b[0m b \u001b[38;5;241m=\u001b[39m \u001b[38;5;28mlist\u001b[39m[a]\n\u001b[1;32m----> 3\u001b[0m \u001b[38;5;28;01mdel\u001b[39;00m b[\u001b[38;5;241m0\u001b[39m]\n\u001b[0;32m      4\u001b[0m c \u001b[38;5;241m=\u001b[39m \u001b[38;5;28mtuple\u001b[39m(b)\n\u001b[0;32m      5\u001b[0m \u001b[38;5;28mprint\u001b[39m(c)\n",
      "\u001b[1;31mTypeError\u001b[0m: 'types.GenericAlias' object does not support item deletion"
     ]
    }
   ],
   "source": [
    "a = (234,434,532,533,133)\n",
    "b = list[a]\n",
    "del b[0]\n",
    "c = tuple(b)\n",
    "print(c)"
   ]
  },
  {
   "cell_type": "code",
   "execution_count": null,
   "id": "75ae468f",
   "metadata": {},
   "outputs": [],
   "source": []
  },
  {
   "cell_type": "code",
   "execution_count": null,
   "id": "66df3887",
   "metadata": {},
   "outputs": [],
   "source": []
  },
  {
   "cell_type": "code",
   "execution_count": null,
   "id": "125d247e",
   "metadata": {},
   "outputs": [],
   "source": []
  },
  {
   "cell_type": "code",
   "execution_count": null,
   "id": "e5f3e089",
   "metadata": {},
   "outputs": [],
   "source": []
  }
 ],
 "metadata": {
  "kernelspec": {
   "display_name": "Python 3 (ipykernel)",
   "language": "python",
   "name": "python3"
  },
  "language_info": {
   "codemirror_mode": {
    "name": "ipython",
    "version": 3
   },
   "file_extension": ".py",
   "mimetype": "text/x-python",
   "name": "python",
   "nbconvert_exporter": "python",
   "pygments_lexer": "ipython3",
   "version": "3.10.9"
  }
 },
 "nbformat": 4,
 "nbformat_minor": 5
}
