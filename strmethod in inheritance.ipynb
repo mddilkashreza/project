{
 "cells": [
  {
   "cell_type": "code",
   "execution_count": 3,
   "id": "a6c79b15",
   "metadata": {},
   "outputs": [
    {
     "name": "stdout",
     "output_type": "stream",
     "text": [
      "Enter name = Heena\n",
      "Enter age = 16\n",
      "Enter add = tinkune\n",
      "Heena\n",
      "Hello World I am Heena. I am from tinkune. I am 16\n",
      "<class '__main__.Info'>\n"
     ]
    }
   ],
   "source": [
    "class Info:\n",
    "    def __init__(self):\n",
    "        self.name = input(\"Enter name = \")\n",
    "        self.age = int(input(\"Enter age = \"))\n",
    "        self.add = input(\"Enter add = \")\n",
    "        \n",
    "    def __str__(self):\n",
    "        return self.name\n",
    "    \n",
    "    def info(self):\n",
    "        print(f\"Hello World I am {self.name}. I am from {self.add}. I am {self.age}\")\n",
    "        \n",
    "obj = Info()\n",
    "print(obj)\n",
    "obj.info()\n",
    "print(type(obj))"
   ]
  },
  {
   "cell_type": "code",
   "execution_count": 4,
   "id": "711ab8fa",
   "metadata": {},
   "outputs": [
    {
     "ename": "TypeError",
     "evalue": "unsupported operand type(s) for +: 'cal' and 'cal'",
     "output_type": "error",
     "traceback": [
      "\u001b[1;31m---------------------------------------------------------------------------\u001b[0m",
      "\u001b[1;31mTypeError\u001b[0m                                 Traceback (most recent call last)",
      "Cell \u001b[1;32mIn[4], line 9\u001b[0m\n\u001b[0;32m      7\u001b[0m p1 \u001b[38;5;241m=\u001b[39m cal(\u001b[38;5;241m100\u001b[39m,\u001b[38;5;241m200\u001b[39m)\n\u001b[0;32m      8\u001b[0m p2 \u001b[38;5;241m=\u001b[39m cal(\u001b[38;5;241m300\u001b[39m,\u001b[38;5;241m400\u001b[39m)\n\u001b[1;32m----> 9\u001b[0m \u001b[38;5;28mprint\u001b[39m(\u001b[43mp1\u001b[49m\u001b[38;5;241;43m+\u001b[39;49m\u001b[43mp2\u001b[49m)\n",
      "\u001b[1;31mTypeError\u001b[0m: unsupported operand type(s) for +: 'cal' and 'cal'"
     ]
    }
   ],
   "source": [
    "# Operating Overloading\n",
    "class cal:\n",
    "    def __init__(self,x,y):\n",
    "        self.x = x\n",
    "        self.y = y\n",
    "        \n",
    "p1 = cal(100,200)\n",
    "p2 = cal(300,400)\n",
    "print(p1+p2)\n",
    "        "
   ]
  },
  {
   "cell_type": "code",
   "execution_count": 6,
   "id": "214ba592",
   "metadata": {},
   "outputs": [
    {
     "name": "stdout",
     "output_type": "stream",
     "text": [
      "This is init method 2000\n",
      "This is init method 3000\n",
      "This is init method 1500\n",
      "This is add Method = \n",
      "This is init method 5000\n",
      "This is add Method = \n",
      "This is init method 6500\n",
      "This is str method =  6500\n",
      "(6500)\n"
     ]
    }
   ],
   "source": [
    "class Point:\n",
    "    def __init__(self,x):\n",
    "        self.x = x\n",
    "        print(\"This is init method\",self.x)\n",
    "       \n",
    "        \n",
    "    def __str__(self):\n",
    "        print(\"This is str method =  \", self.x)\n",
    "        return f\"({self.x})\"\n",
    "    \n",
    "    def __add__(self,other):\n",
    "        x = self.x + other.x\n",
    "        print(\"This is add Method = \")\n",
    "        return Point(x)\n",
    "    \n",
    "p1 = Point(2000)\n",
    "p2 = Point(3000)\n",
    "p3 = Point(1500)\n",
    "print(p1+p2+p3)"
   ]
  },
  {
   "cell_type": "code",
   "execution_count": null,
   "id": "8f70b10f",
   "metadata": {},
   "outputs": [],
   "source": []
  },
  {
   "cell_type": "code",
   "execution_count": null,
   "id": "50d109fc",
   "metadata": {},
   "outputs": [],
   "source": []
  },
  {
   "cell_type": "code",
   "execution_count": null,
   "id": "b750ea47",
   "metadata": {},
   "outputs": [],
   "source": []
  },
  {
   "cell_type": "code",
   "execution_count": null,
   "id": "336ae548",
   "metadata": {},
   "outputs": [],
   "source": []
  }
 ],
 "metadata": {
  "kernelspec": {
   "display_name": "Python 3 (ipykernel)",
   "language": "python",
   "name": "python3"
  },
  "language_info": {
   "codemirror_mode": {
    "name": "ipython",
    "version": 3
   },
   "file_extension": ".py",
   "mimetype": "text/x-python",
   "name": "python",
   "nbconvert_exporter": "python",
   "pygments_lexer": "ipython3",
   "version": "3.10.9"
  }
 },
 "nbformat": 4,
 "nbformat_minor": 5
}
