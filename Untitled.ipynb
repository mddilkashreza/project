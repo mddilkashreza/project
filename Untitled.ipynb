{
 "cells": [
  {
   "cell_type": "code",
   "execution_count": 1,
   "id": "8fbb1e73",
   "metadata": {},
   "outputs": [
    {
     "name": "stdout",
     "output_type": "stream",
     "text": [
      "333\n",
      "333\n"
     ]
    }
   ],
   "source": [
    "a = input()\n",
    "print(a)\n"
   ]
  },
  {
   "cell_type": "code",
   "execution_count": 3,
   "id": "7a994d63",
   "metadata": {},
   "outputs": [
    {
     "name": "stdout",
     "output_type": "stream",
     "text": [
      "Enter a =7\n",
      "7\n",
      "<class 'str'>\n"
     ]
    }
   ],
   "source": [
    "a = input(\"Enter a =\")\n",
    "print(a)\n",
    "print(type(a))"
   ]
  },
  {
   "cell_type": "code",
   "execution_count": 4,
   "id": "9a53fff4",
   "metadata": {},
   "outputs": [
    {
     "name": "stdout",
     "output_type": "stream",
     "text": [
      "Enter a = 3\n",
      "Enter b = 3\n",
      "6\n"
     ]
    }
   ],
   "source": [
    "a = int(input(\"Enter a = \"))\n",
    "b = int(input(\"Enter b = \"))\n",
    "c = a + b\n",
    "print(c)"
   ]
  },
  {
   "cell_type": "code",
   "execution_count": 5,
   "id": "24df8c21",
   "metadata": {},
   "outputs": [
    {
     "data": {
      "text/plain": [
       "'10'"
      ]
     },
     "execution_count": 5,
     "metadata": {},
     "output_type": "execute_result"
    }
   ],
   "source": [
    "# type casting\n",
    "\n",
    "a = 10\n",
    "str(a)"
   ]
  },
  {
   "cell_type": "code",
   "execution_count": 6,
   "id": "0eec79c2",
   "metadata": {},
   "outputs": [
    {
     "name": "stdout",
     "output_type": "stream",
     "text": [
      "10\n"
     ]
    }
   ],
   "source": [
    "a = '10'\n",
    "print(int(a))"
   ]
  },
  {
   "cell_type": "code",
   "execution_count": 8,
   "id": "2f36e23b",
   "metadata": {},
   "outputs": [
    {
     "data": {
      "text/plain": [
       "True"
      ]
     },
     "execution_count": 8,
     "metadata": {},
     "output_type": "execute_result"
    }
   ],
   "source": [
    "a = 0\n",
    "bool(a)"
   ]
  },
  {
   "cell_type": "code",
   "execution_count": 12,
   "id": "5fe91bcf",
   "metadata": {},
   "outputs": [
    {
     "name": "stdout",
     "output_type": "stream",
     "text": [
      "Enter P= 1000\n",
      "Enter t= 3\n",
      "Enter r= 4.6\n",
      "The value of s  137.99999999999997\n"
     ]
    }
   ],
   "source": [
    "p = int(input(\"Enter P= \"))\n",
    "t = int(input(\"Enter t= \"))\n",
    "r = float(input(\"Enter r= \"))\n",
    "s = (p*t*r)/100\n",
    "print(\"The value of s \",s)"
   ]
  },
  {
   "cell_type": "code",
   "execution_count": 16,
   "id": "fdfd3a53",
   "metadata": {},
   "outputs": [
    {
     "name": "stdout",
     "output_type": "stream",
     "text": [
      "Enter a name = Dilkash\n",
      "Enter a age = 21\n",
      "Enter a add Tinkune\n",
      "Hello World I am Dilkash I am from Tinkune I am 21\n"
     ]
    }
   ],
   "source": [
    "name = input(\"Enter a name = \")\n",
    "age = input(\"Enter a age = \")\n",
    "add = input(\"Enter a add \")\n",
    "info = \"Hello World I am \" + name + \" I am from \" + add + \" I am \" + str(age)\n",
    "print(info)"
   ]
  },
  {
   "cell_type": "code",
   "execution_count": 13,
   "id": "4e2cd5da",
   "metadata": {},
   "outputs": [
    {
     "data": {
      "text/plain": [
       "'Appleball2'"
      ]
     },
     "execution_count": 13,
     "metadata": {},
     "output_type": "execute_result"
    }
   ],
   "source": [
    "b = \"ball\"\n",
    "\"Apple\" + b + str(2)"
   ]
  },
  {
   "cell_type": "code",
   "execution_count": 20,
   "id": "5f7c1839",
   "metadata": {},
   "outputs": [
    {
     "name": "stdout",
     "output_type": "stream",
     "text": [
      "Enter a marks = 55\n",
      "Enter a marks = 4\n",
      "Enter a marks = 6\n",
      "Enter a marks = 4\n",
      "Enter a marks = 5\n",
      "The total sum is  74\n",
      "The total percentate is  14.8\n"
     ]
    }
   ],
   "source": [
    "sci = int(input(\"Enter a marks = \"))\n",
    "math = int(input(\"Enter a marks = \"))\n",
    "acc = int(input(\"Enter a marks = \"))\n",
    "eng = int(input(\"Enter a marks = \"))\n",
    "nep = int(input(\"Enter a marks = \"))\n",
    "total = (sci+math+acc+eng+nep)\n",
    "print(\"The total sum is \",total)\n",
    "per = total/5\n",
    "print(\"The total percentate is \",per)"
   ]
  },
  {
   "cell_type": "code",
   "execution_count": null,
   "id": "2a84786c",
   "metadata": {},
   "outputs": [],
   "source": []
  }
 ],
 "metadata": {
  "kernelspec": {
   "display_name": "Python 3 (ipykernel)",
   "language": "python",
   "name": "python3"
  },
  "language_info": {
   "codemirror_mode": {
    "name": "ipython",
    "version": 3
   },
   "file_extension": ".py",
   "mimetype": "text/x-python",
   "name": "python",
   "nbconvert_exporter": "python",
   "pygments_lexer": "ipython3",
   "version": "3.10.9"
  }
 },
 "nbformat": 4,
 "nbformat_minor": 5
}
