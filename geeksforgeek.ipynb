{
 "cells": [
  {
   "cell_type": "code",
   "execution_count": 9,
   "id": "566d7012",
   "metadata": {},
   "outputs": [
    {
     "name": "stdout",
     "output_type": "stream",
     "text": [
      "New Delhi is the capital of India.\n",
      "Hindi is the most widely spoken language of india\n",
      "India is a developing country.\n",
      "Washington, D.C is the capital of USA.\n",
      "English is the primary language of USA.\n",
      "USA is a developed country.\n"
     ]
    }
   ],
   "source": [
    "class India():\n",
    "    def capital(self):\n",
    "        print(\"New Delhi is the capital of India.\")\n",
    "        \n",
    "    def language(self):\n",
    "        print(\"Hindi is the most widely spoken language of india\")\n",
    "        \n",
    "    def type(self):\n",
    "        print(\"India is a developing country.\")\n",
    "        \n",
    "class USA():\n",
    "    def capital(self):\n",
    "        print(\"Washington, D.C is the capital of USA.\")\n",
    "        \n",
    "    def language(self):\n",
    "        print(\"English is the primary language of USA.\")\n",
    "        \n",
    "    def type(self):\n",
    "        print(\"USA is a developed country.\")\n",
    "        \n",
    "obj_ind = India()\n",
    "obj_usa = USA()\n",
    "for country in (obj_ind,obj_usa):\n",
    "    country.capital()\n",
    "    country.language()\n",
    "    country.type()"
   ]
  },
  {
   "cell_type": "code",
   "execution_count": 14,
   "id": "0a5e16af",
   "metadata": {},
   "outputs": [
    {
     "name": "stdout",
     "output_type": "stream",
     "text": [
      "There are many types of birds.\n",
      "Most of the birds can fly but some cannot.\n",
      "There are many types of birds.\n",
      "Sparrows can fly.\n",
      "There are many types of birds.\n",
      "Ostriches cannot fly.\n"
     ]
    }
   ],
   "source": [
    "class Bird:\n",
    "    def intro(self):\n",
    "        print(\"There are many types of birds.\")\n",
    "        \n",
    "    def flight(self):\n",
    "        print(\"Most of the birds can fly but some cannot.\")\n",
    "    \n",
    "\n",
    "class sparrow(Bird):\n",
    "    def flight(self):\n",
    "        print(\"Sparrows can fly.\")\n",
    "        \n",
    "class ostrich(Bird):\n",
    "    def flight(self):\n",
    "        print(\"Ostriches cannot fly.\")\n",
    "\n",
    "obj_bird = Bird()\n",
    "obj_spr = sparrow()\n",
    "obj_ost = ostrich()\n",
    "\n",
    "obj_bird.intro()\n",
    "obj_bird.flight()\n",
    "\n",
    "obj_spr.intro()\n",
    "obj_spr.flight()\n",
    "\n",
    "obj_ost.intro()\n",
    "obj_ost.flight()"
   ]
  },
  {
   "cell_type": "code",
   "execution_count": 19,
   "id": "b93a10d1",
   "metadata": {},
   "outputs": [
    {
     "name": "stdout",
     "output_type": "stream",
     "text": [
      "New Delhi is the capital of India.\n",
      "Hindi is the most spoken language in india\n",
      "Washington is the capital of USA.\n",
      "English is the most spoken language in USA.\n"
     ]
    }
   ],
   "source": [
    "class India():\n",
    "    def capital(self):\n",
    "        print(\"New Delhi is the capital of India.\")\n",
    "    \n",
    "    def language(self):\n",
    "        print(\"Hindi is the most spoken language in india\")\n",
    "        \n",
    "    def tyep(self):\n",
    "        print(\"It is a developing country\")\n",
    "\n",
    "class USA():\n",
    "    def capital(self):\n",
    "        print(\"Washington is the capital of USA.\")\n",
    "    \n",
    "    def language(self):\n",
    "        print(\"English is the most spoken language in USA.\")\n",
    "        \n",
    "    def type(self):\n",
    "        print(\"It is a developed country\")\n",
    "        \n",
    "def func(obj):\n",
    "    obj.capital()\n",
    "    obj.language()\n",
    "  \n",
    "    \n",
    "obj_ind = India()\n",
    "obj_usa = USA()\n",
    "\n",
    "func(obj_ind)\n",
    "func(obj_usa)"
   ]
  },
  {
   "cell_type": "code",
   "execution_count": 22,
   "id": "22b8a3ec",
   "metadata": {},
   "outputs": [
    {
     "name": "stdout",
     "output_type": "stream",
     "text": [
      "Woof!\n",
      "Meow!\n"
     ]
    }
   ],
   "source": [
    "class Animal:\n",
    "    def speak(self):\n",
    "        raise NotImplementError(\"Subclass must implement\")\n",
    "        \n",
    "class Dog(Animal):\n",
    "    def speak(self):\n",
    "        return \"Woof!\"\n",
    "    \n",
    "class Cat(Animal):\n",
    "    def speak(self):\n",
    "        return \"Meow!\"\n",
    "    \n",
    "animals = [Dog(), Cat()]\n",
    "for animal in animals:\n",
    "    print(animal.speak())"
   ]
  },
  {
   "cell_type": "code",
   "execution_count": 25,
   "id": "46849fb7",
   "metadata": {},
   "outputs": [
    {
     "name": "stdout",
     "output_type": "stream",
     "text": [
      "76\n",
      "55\n"
     ]
    }
   ],
   "source": [
    "class Student:\n",
    "    def __init__(self,m1,m2):\n",
    "        self.m1 = m1\n",
    "        self.m2 = m2\n",
    "        \n",
    "    def __add__(self, other):\n",
    "        m1 = self.m1 + other.m1\n",
    "        m2 = self.m2 + other.m2\n",
    "        s3 = Student(m1,m2)\n",
    "        return s3\n",
    "        \n",
    "s1 = Student(43,33)\n",
    "s2 = Student(33,22)\n",
    "s3 = s1 + s2\n",
    "print(s3.m1)\n",
    "print(s3.m2)"
   ]
  },
  {
   "cell_type": "code",
   "execution_count": 28,
   "id": "5f608cf3",
   "metadata": {},
   "outputs": [
    {
     "name": "stdout",
     "output_type": "stream",
     "text": [
      "Hard work dddd\n",
      "Practice makes a man improving\n"
     ]
    }
   ],
   "source": [
    "class Programming:\n",
    "    DataStructures = True\n",
    "    Algorithms = True\n",
    "    \n",
    "    def practice(self):\n",
    "        print(\"Practice makes a man improving\")\n",
    "    \n",
    "    \n",
    "    def consistency(self):\n",
    "        print(\"Hard work along with consistency can defeat talent\")\n",
    "        \n",
    "class Python(Programming):\n",
    "    \n",
    "    def consistency(self):\n",
    "        print(\"Hard work dddd\")\n",
    "        \n",
    "Py = Python()\n",
    "Py.consistency()\n",
    "Py.practice()"
   ]
  },
  {
   "cell_type": "code",
   "execution_count": 30,
   "id": "feb4633a",
   "metadata": {},
   "outputs": [
    {
     "name": "stdout",
     "output_type": "stream",
     "text": [
      "Dilkash 1337\n"
     ]
    }
   ],
   "source": [
    "class MyClass:\n",
    "    number = 0\n",
    "    name = \"noname\"\n",
    "    \n",
    "def Main():\n",
    "    me = MyClass()\n",
    "    me.number = 1337\n",
    "    me.name = \"Dilkash\"\n",
    "    \n",
    "    print(me.name + \" \" + str(me.number))\n",
    "    \n",
    "if __name__=='__main__':\n",
    "    Main()"
   ]
  },
  {
   "cell_type": "code",
   "execution_count": 31,
   "id": "00a9616c",
   "metadata": {},
   "outputs": [
    {
     "name": "stdout",
     "output_type": "stream",
     "text": [
      "X: 5, Y: 6\n"
     ]
    }
   ],
   "source": [
    "class Vector2D:\n",
    "    x = 0.0\n",
    "    y = 0.0\n",
    "    \n",
    "    def Set(self, x, y):\n",
    "        self.x = x\n",
    "        self.y = y\n",
    "        \n",
    "def Main():\n",
    "    vec = Vector2D()\n",
    "    \n",
    "    vec.Set(5,6)\n",
    "    print(\"X: \" + str(vec.x) + \", Y: \" + str(vec.y))\n",
    "    \n",
    "if __name__=='__main__':\n",
    "    Main()\n",
    "        \n",
    "    "
   ]
  },
  {
   "cell_type": "code",
   "execution_count": 33,
   "id": "53b08014",
   "metadata": {},
   "outputs": [
    {
     "name": "stdout",
     "output_type": "stream",
     "text": [
      "Stack size: 5\n",
      "Top element: <bound method Stack.peek of <__main__.Stack object at 0x000001F88748E890>>\n",
      "\n",
      "Popped item: 4\n",
      "\n",
      "Stack size: 4\n",
      "Top element: 3\n",
      "\n",
      "Stack size: <bound method Stack.size of <__main__.Stack object at 0x000001F88748DB10>>\n",
      "\n",
      "Popped item: Cannot pop from an empty stack.\n"
     ]
    }
   ],
   "source": [
    "class Stack:\n",
    "    def __init__(self):\n",
    "        self.items = []\n",
    "        \n",
    "    def push(self, item):\n",
    "        self.items.append(item)\n",
    "        \n",
    "    def pop(self):\n",
    "        if not self.is_empty():\n",
    "            return self.items.pop()\n",
    "        else:\n",
    "            return \"Cannot pop from an empty stack.\"\n",
    "        \n",
    "    def is_empty(self):\n",
    "        return len(self.items) == 0\n",
    "    \n",
    "    def size(self):\n",
    "        return len(self.items)\n",
    "    \n",
    "    def peek(self):\n",
    "        if not self.is_empty():\n",
    "            return self.items[-1]\n",
    "        else:\n",
    "            return \"Empty_stack.\"\n",
    "        \n",
    "stack = Stack()\n",
    "stack.push(0)\n",
    "stack.push(1)\n",
    "stack.push(2)\n",
    "stack.push(3)\n",
    "stack.push(4)\n",
    "\n",
    "\n",
    "print(\"Stack size:\", stack.size())\n",
    "print(\"Top element:\", stack.peek)\n",
    "popped_item = stack.pop()\n",
    "print(\"\\nPopped item:\", popped_item)\n",
    "print(\"\\nStack size:\", stack.size())\n",
    "print(\"Top element:\", stack.peek())\n",
    "\n",
    "stack1 = Stack()\n",
    "print(\"\\nStack size:\", stack1.size)\n",
    "popped_item = stack1.pop()\n",
    "print(\"\\nPopped item:\", popped_item)"
   ]
  },
  {
   "cell_type": "code",
   "execution_count": 34,
   "id": "9447a59d",
   "metadata": {},
   "outputs": [
    {
     "name": "stdout",
     "output_type": "stream",
     "text": [
      "Initial Linked List:\n",
      "1 2 3 4 \n",
      "After insert a new node(4):\n",
      "1 2 3 4 5 \n",
      "After delete a existing node(2)\n",
      "1 3 4 5 \n"
     ]
    }
   ],
   "source": [
    "class Node:\n",
    "    def __init__(self, data):\n",
    "        self.data = data\n",
    "        self.next = None\n",
    "        \n",
    "class LinkedList:\n",
    "    def __init__(self):\n",
    "        self.head = None\n",
    "        \n",
    "    \n",
    "    def display(self):\n",
    "        current = self.head\n",
    "        while current:\n",
    "            print(current.data, end=\" \")\n",
    "            current = current.next\n",
    "        print()\n",
    "        \n",
    "    def insert(self, data):\n",
    "        new_node = Node(data)\n",
    "        if not self.head:\n",
    "            self.head = new_node\n",
    "        else:\n",
    "            current = self.head\n",
    "            while current.next:\n",
    "                current = current.next\n",
    "            current.next = new_node\n",
    "    \n",
    "    def delete(self, data):\n",
    "        if not self.head:\n",
    "            return\n",
    "        \n",
    "        if self.head.data == data:\n",
    "            self.head = self.head.next\n",
    "            return\n",
    "        \n",
    "        current = self.head\n",
    "        prev = None\n",
    "        while current and current.data !=data:\n",
    "            prev = current\n",
    "            current = current.next\n",
    "            \n",
    "            \n",
    "        if current:\n",
    "            prev.next = current.next\n",
    "\n",
    "            \n",
    "linked_list = LinkedList()\n",
    "\n",
    "linked_list.insert(1)\n",
    "linked_list.insert(2)\n",
    "linked_list.insert(3)\n",
    "linked_list.insert(4)\n",
    "\n",
    "print(\"Initial Linked List:\")\n",
    "linked_list.display()\n",
    "\n",
    "linked_list.insert(5)\n",
    "print(\"After insert a new node(4):\")\n",
    "linked_list.display()\n",
    "\n",
    "\n",
    "linked_list.delete(2)\n",
    "print(\"After delete a existing node(2)\")\n",
    "linked_list.display()\n"
   ]
  },
  {
   "cell_type": "code",
   "execution_count": null,
   "id": "c63bb2b9",
   "metadata": {},
   "outputs": [],
   "source": []
  },
  {
   "cell_type": "code",
   "execution_count": null,
   "id": "0dd545b4",
   "metadata": {},
   "outputs": [],
   "source": []
  }
 ],
 "metadata": {
  "kernelspec": {
   "display_name": "Python 3 (ipykernel)",
   "language": "python",
   "name": "python3"
  },
  "language_info": {
   "codemirror_mode": {
    "name": "ipython",
    "version": 3
   },
   "file_extension": ".py",
   "mimetype": "text/x-python",
   "name": "python",
   "nbconvert_exporter": "python",
   "pygments_lexer": "ipython3",
   "version": "3.10.9"
  }
 },
 "nbformat": 4,
 "nbformat_minor": 5
}
