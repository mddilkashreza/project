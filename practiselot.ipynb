{
 "cells": [
  {
   "cell_type": "code",
   "execution_count": null,
   "id": "5658950c",
   "metadata": {},
   "outputs": [],
   "source": [
    "def isPalindrome(string):\n",
    "    left_pos = 0\n",
    "    right_pos = len(string) - 1\n",
    "    \n",
    "    while right_pos >= left_pos:\n",
    "        if not string[left_pos] == string[right_pos]:\n",
    "            return False\n",
    "        left_pos += 1\n",
    "        right_pos -=1\n",
    "    return True\n",
    "print(isPalindrome('madam'))"
   ]
  },
  {
   "cell_type": "code",
   "execution_count": null,
   "id": "87df8ffb",
   "metadata": {},
   "outputs": [],
   "source": [
    "def pascal_triangel(n):\n",
    "    trow = [1]\n",
    "    y = [0]\n",
    "    for x in range(max(n,0)):\n",
    "        print(trow)\n",
    "        trow=[l+r for l,r in zip(trow+y, y+trow)]\n",
    "    return n>=1\n",
    "pascal_triangel(6)"
   ]
  },
  {
   "cell_type": "code",
   "execution_count": null,
   "id": "270a58f8",
   "metadata": {},
   "outputs": [],
   "source": [
    "import string, sys\n",
    "def ispangram(str1, alphabet=string.ascii_lowercase):\n",
    "    alphaset = set(alphabet)\n",
    "    return alphaset <= set(str1.lower())\n",
    "print(ispangram('The quick brown fox jumps over the lazy dog'))"
   ]
  },
  {
   "cell_type": "code",
   "execution_count": null,
   "id": "acc7b86c",
   "metadata": {},
   "outputs": [],
   "source": [
    "items =[n for n in input().split('-')]\n",
    "items.sort()\n",
    "print('-'.join(items))"
   ]
  },
  {
   "cell_type": "code",
   "execution_count": null,
   "id": "d27da94e",
   "metadata": {},
   "outputs": [],
   "source": [
    "def printValue():\n",
    "    l = list()\n",
    "    for i in range(1,31):\n",
    "        l.append(i**2)\n",
    "    print(l)\n",
    "printValue()"
   ]
  },
  {
   "cell_type": "code",
   "execution_count": null,
   "id": "33c53758",
   "metadata": {},
   "outputs": [],
   "source": [
    "def make_bold(fn):\n",
    "    def wrapped():\n",
    "        return \"<b>\" + fn(\"Hello world\") + \"</b>\"\n",
    "    return wrapped\n",
    "\n",
    "def make_italic(fn):\n",
    "    def wrapped():\n",
    "        return \"<i>\" + fn() + \"</i>\"\n",
    "    return wrapped\n",
    "\n",
    "def make_underline(fn):\n",
    "    def wrapped():\n",
    "        return \"<u>\" + fn() + \"</u>\"\n",
    "    return wrapped\n",
    "# @make_blod\n",
    "# @make_italic\n",
    "# @make_underline\n",
    "def hello():\n",
    "    return \"hello world\"\n",
    "print(hello())"
   ]
  },
  {
   "cell_type": "code",
   "execution_count": null,
   "id": "9f1e7775",
   "metadata": {},
   "outputs": [],
   "source": [
    "mycode = 'print(\"hello world\")'\n",
    "code = \"\"\"\n",
    "def multiply(x,y):\n",
    "    return x*y\n",
    "    \n",
    "print('Multiply of 2 and 3 is: ',multiply(2,3))\n",
    "\"\"\"\n",
    "\n",
    "exec(mycode)\n",
    "exec(code)"
   ]
  },
  {
   "cell_type": "code",
   "execution_count": null,
   "id": "948ab231",
   "metadata": {},
   "outputs": [],
   "source": [
    "def test(a):\n",
    "    def add(b):\n",
    "        nonlocal a\n",
    "        a += 1\n",
    "        return a+b\n",
    "    return add\n",
    "func = test(4)\n",
    "print(func(4))"
   ]
  },
  {
   "cell_type": "code",
   "execution_count": null,
   "id": "b1fce6aa",
   "metadata": {},
   "outputs": [],
   "source": [
    "def abc():\n",
    "    x = 1\n",
    "    y = 2\n",
    "    str1= \"w3resource\"\n",
    "    print(\"python Exercise\")\n",
    "\n",
    "print(abc.__code__.co_nlocals)"
   ]
  },
  {
   "cell_type": "code",
   "execution_count": null,
   "id": "dfa53f86",
   "metadata": {},
   "outputs": [],
   "source": [
    "from time import sleep\n",
    "import math\n",
    "def delay(fn, ms, *args):\n",
    "    sleep(ms / 1000)\n",
    "    return fn(*args)\n",
    "print(\"Square root after specific miliseconds\")\n",
    "print(delay(lambda x: math.sqrt(x), 100, 16))\n",
    "print(delay(lambda x: math.sqrt(x), 1000, 100))\n",
    "print(delay(lambda x: math.sqrt(x), 2000, 25100))"
   ]
  },
  {
   "cell_type": "code",
   "execution_count": null,
   "id": "2dc865f0",
   "metadata": {},
   "outputs": [],
   "source": [
    "# Exception Handling"
   ]
  },
  {
   "cell_type": "code",
   "execution_count": null,
   "id": "a8b9d6ac",
   "metadata": {},
   "outputs": [],
   "source": [
    "def divide_numbers(x,y):\n",
    "    try:\n",
    "        result = x / y\n",
    "        print(\"Result:\", result)\n",
    "    except ZeroDivisionError:\n",
    "        print(\"The division by zero operation is not a perform\")\n",
    "\n",
    "numerator = 100\n",
    "denominator = 10\n",
    "divide_numbers(numerator, denominator)"
   ]
  },
  {
   "cell_type": "code",
   "execution_count": null,
   "id": "381e9a35",
   "metadata": {},
   "outputs": [],
   "source": [
    "def get_inter(prompt):\n",
    "    try:\n",
    "        value = int(input(prompt))\n",
    "        return value\n",
    "    except ValueError:\n",
    "        print(\"Error: Invalid input, input a valid\")\n",
    "n = get_inter(\"Input an inter:\")\n",
    "print(\"Input value:\", n)"
   ]
  },
  {
   "cell_type": "code",
   "execution_count": null,
   "id": "3a59b3ef",
   "metadata": {},
   "outputs": [],
   "source": [
    "def open_file(filename):\n",
    "    try:\n",
    "        file = open(filename, 'r')\n",
    "        contents = file.read()\n",
    "        print(\"File contents:\")\n",
    "        print(contents)\n",
    "        file.close()\n",
    "    except FileNotFoundError:\n",
    "        print(\"Error: File not found.\")\n",
    "file_name = input(\"Input a file name:\")\n",
    "open_file(file_name)"
   ]
  },
  {
   "cell_type": "code",
   "execution_count": null,
   "id": "6ddf410c",
   "metadata": {},
   "outputs": [],
   "source": [
    "def get_input(prompt):\n",
    "    while True:\n",
    "        try:\n",
    "            value = float(input(prompt))\n",
    "            return value\n",
    "        except ValueError:\n",
    "            print(\"Error: invalid input. Please input valid\")\n",
    "n1 = get_input(\"Input the first number: \")\n",
    "n2 = get_input(\"Input the second number\")\n",
    "result = n1 * n2\n",
    "print(\"product of the said two number:\",result)"
   ]
  },
  {
   "cell_type": "code",
   "execution_count": 1,
   "id": "9e6f6469",
   "metadata": {},
   "outputs": [
    {
     "name": "stdout",
     "output_type": "stream",
     "text": [
      "Input a file name:employees.csv\n"
     ]
    },
    {
     "ename": "UnsupportedOperation",
     "evalue": "not readable",
     "output_type": "error",
     "traceback": [
      "\u001b[1;31m---------------------------------------------------------------------------\u001b[0m",
      "\u001b[1;31mUnsupportedOperation\u001b[0m                      Traceback (most recent call last)",
      "Cell \u001b[1;32mIn[1], line 11\u001b[0m\n\u001b[0;32m      8\u001b[0m         \u001b[38;5;28mprint\u001b[39m(\u001b[38;5;124m\"\u001b[39m\u001b[38;5;124mError: Permission denide to open file\u001b[39m\u001b[38;5;124m\"\u001b[39m)\n\u001b[0;32m     10\u001b[0m file_name \u001b[38;5;241m=\u001b[39m \u001b[38;5;28minput\u001b[39m(\u001b[38;5;124m\"\u001b[39m\u001b[38;5;124mInput a file name:\u001b[39m\u001b[38;5;124m\"\u001b[39m)\n\u001b[1;32m---> 11\u001b[0m \u001b[43mopen_file\u001b[49m\u001b[43m(\u001b[49m\u001b[43mfile_name\u001b[49m\u001b[43m)\u001b[49m\n",
      "Cell \u001b[1;32mIn[1], line 4\u001b[0m, in \u001b[0;36mopen_file\u001b[1;34m(filename)\u001b[0m\n\u001b[0;32m      2\u001b[0m \u001b[38;5;28;01mtry\u001b[39;00m:\n\u001b[0;32m      3\u001b[0m     \u001b[38;5;28;01mwith\u001b[39;00m \u001b[38;5;28mopen\u001b[39m(filename, \u001b[38;5;124m'\u001b[39m\u001b[38;5;124mw\u001b[39m\u001b[38;5;124m'\u001b[39m) \u001b[38;5;28;01mas\u001b[39;00m file:\n\u001b[1;32m----> 4\u001b[0m         contents \u001b[38;5;241m=\u001b[39m \u001b[43mfile\u001b[49m\u001b[38;5;241;43m.\u001b[39;49m\u001b[43mread\u001b[49m\u001b[43m(\u001b[49m\u001b[43m)\u001b[49m\n\u001b[0;32m      5\u001b[0m         \u001b[38;5;28mprint\u001b[39m(\u001b[38;5;124m\"\u001b[39m\u001b[38;5;124mFile Contents\u001b[39m\u001b[38;5;124m\"\u001b[39m)\n\u001b[0;32m      6\u001b[0m         \u001b[38;5;28mprint\u001b[39m(contents)\n",
      "\u001b[1;31mUnsupportedOperation\u001b[0m: not readable"
     ]
    }
   ],
   "source": [
    "def open_file(filename):\n",
    "    try:\n",
    "        with open(filename, 'w') as file:\n",
    "            contents = file.read()\n",
    "            print(\"File Contents\")\n",
    "            print(contents)\n",
    "    except PermissionError:\n",
    "        print(\"Error: Permission denide to open file\")\n",
    "            \n",
    "file_name = input(\"Input a file name:\")\n",
    "open_file(file_name)"
   ]
  },
  {
   "cell_type": "code",
   "execution_count": 2,
   "id": "a535fba4",
   "metadata": {},
   "outputs": [
    {
     "name": "stdout",
     "output_type": "stream",
     "text": [
      "Input a file name: em.csv\n"
     ]
    },
    {
     "ename": "UnsupportedOperation",
     "evalue": "not readable",
     "output_type": "error",
     "traceback": [
      "\u001b[1;31m---------------------------------------------------------------------------\u001b[0m",
      "\u001b[1;31mUnsupportedOperation\u001b[0m                      Traceback (most recent call last)",
      "Cell \u001b[1;32mIn[2], line 12\u001b[0m\n\u001b[0;32m     10\u001b[0m \u001b[38;5;66;03m# Usage\u001b[39;00m\n\u001b[0;32m     11\u001b[0m file_name \u001b[38;5;241m=\u001b[39m \u001b[38;5;28minput\u001b[39m(\u001b[38;5;124m\"\u001b[39m\u001b[38;5;124mInput a file name: \u001b[39m\u001b[38;5;124m\"\u001b[39m)\n\u001b[1;32m---> 12\u001b[0m \u001b[43mopen_file\u001b[49m\u001b[43m(\u001b[49m\u001b[43mfile_name\u001b[49m\u001b[43m)\u001b[49m\n",
      "Cell \u001b[1;32mIn[2], line 4\u001b[0m, in \u001b[0;36mopen_file\u001b[1;34m(filename)\u001b[0m\n\u001b[0;32m      2\u001b[0m \u001b[38;5;28;01mtry\u001b[39;00m:\n\u001b[0;32m      3\u001b[0m     \u001b[38;5;28;01mwith\u001b[39;00m \u001b[38;5;28mopen\u001b[39m(filename, \u001b[38;5;124m'\u001b[39m\u001b[38;5;124mw\u001b[39m\u001b[38;5;124m'\u001b[39m) \u001b[38;5;28;01mas\u001b[39;00m file:\n\u001b[1;32m----> 4\u001b[0m         contents \u001b[38;5;241m=\u001b[39m \u001b[43mfile\u001b[49m\u001b[38;5;241;43m.\u001b[39;49m\u001b[43mread\u001b[49m\u001b[43m(\u001b[49m\u001b[43m)\u001b[49m\n\u001b[0;32m      5\u001b[0m         \u001b[38;5;28mprint\u001b[39m(\u001b[38;5;124m\"\u001b[39m\u001b[38;5;124mFile contents:\u001b[39m\u001b[38;5;124m\"\u001b[39m)\n\u001b[0;32m      6\u001b[0m         \u001b[38;5;28mprint\u001b[39m(contents)\n",
      "\u001b[1;31mUnsupportedOperation\u001b[0m: not readable"
     ]
    }
   ],
   "source": [
    "def open_file(filename):\n",
    "    try:\n",
    "        with open(filename, 'w') as file:\n",
    "            contents = file.read()\n",
    "            print(\"File contents:\")\n",
    "            print(contents)\n",
    "    except PermissionError:\n",
    "        print(\"Error: Permission denied to open the file.\")\n",
    "\n",
    "# Usage\n",
    "file_name = input(\"Input a file name: \")\n",
    "open_file(file_name)"
   ]
  },
  {
   "cell_type": "code",
   "execution_count": 4,
   "id": "5eb86716",
   "metadata": {},
   "outputs": [
    {
     "name": "stdout",
     "output_type": "stream",
     "text": [
      "Input the index:4\n",
      "Result: 5\n"
     ]
    }
   ],
   "source": [
    "def test_index(data, index):\n",
    "    try:\n",
    "        result = data[index]\n",
    "        print(\"Result:\", result)\n",
    "    except IndexError:\n",
    "        print(\"Error: Index out of range.\")\n",
    "nums = [1,2,3,4,5,6,7]\n",
    "index = int(input(\"Input the index:\"))\n",
    "test_index(nums, index)"
   ]
  },
  {
   "cell_type": "code",
   "execution_count": 5,
   "id": "b98838fa",
   "metadata": {},
   "outputs": [
    {
     "name": "stdout",
     "output_type": "stream",
     "text": [
      "Input a number:6\n",
      "you entered: 6\n"
     ]
    }
   ],
   "source": [
    "try:\n",
    "    n = int(input(\"Input a number:\"))\n",
    "    print(\"you entered:\", n)\n",
    "except KeyboardInterrupt:\n",
    "    print(\"Input canceled by the user.\")"
   ]
  },
  {
   "cell_type": "code",
   "execution_count": 6,
   "id": "36e142af",
   "metadata": {},
   "outputs": [
    {
     "name": "stdout",
     "output_type": "stream",
     "text": [
      "Input the dividend:5\n",
      "Input the divisor7\n",
      "Result: 0.7142857142857143\n"
     ]
    }
   ],
   "source": [
    "def division(dividend, divisor):\n",
    "    try:\n",
    "        result = dividend / divisor\n",
    "        print(\"Result:\", result)\n",
    "    except ArithmeticError:\n",
    "        print(\"Error: Arithmetic error occured!\")\n",
    "\n",
    "dividend = float(input(\"Input the dividend:\"))\n",
    "divisor = float(input(\"Input the divisor\"))\n",
    "division(dividend, divisor)"
   ]
  },
  {
   "cell_type": "code",
   "execution_count": 7,
   "id": "80e86cd4",
   "metadata": {},
   "outputs": [
    {
     "name": "stdout",
     "output_type": "stream",
     "text": [
      "Input the file name:unicode.txt\n",
      "Input the encoding (ASCII,UTF-16,UTF-8)for the file:ASCII\n"
     ]
    },
    {
     "ename": "FileNotFoundError",
     "evalue": "[Errno 2] No such file or directory: 'unicode.txt'",
     "output_type": "error",
     "traceback": [
      "\u001b[1;31m---------------------------------------------------------------------------\u001b[0m",
      "\u001b[1;31mFileNotFoundError\u001b[0m                         Traceback (most recent call last)",
      "Cell \u001b[1;32mIn[7], line 11\u001b[0m\n\u001b[0;32m      9\u001b[0m         \u001b[38;5;28mprint\u001b[39m(\u001b[38;5;124m\"\u001b[39m\u001b[38;5;124mError: Encoding issue occured while reading\u001b[39m\u001b[38;5;124m\"\u001b[39m)\n\u001b[0;32m     10\u001b[0m file_name \u001b[38;5;241m=\u001b[39m \u001b[38;5;28minput\u001b[39m(\u001b[38;5;124m\"\u001b[39m\u001b[38;5;124mInput the file name:\u001b[39m\u001b[38;5;124m\"\u001b[39m)\n\u001b[1;32m---> 11\u001b[0m \u001b[43mopen_file\u001b[49m\u001b[43m(\u001b[49m\u001b[43mfile_name\u001b[49m\u001b[43m)\u001b[49m\n",
      "Cell \u001b[1;32mIn[7], line 4\u001b[0m, in \u001b[0;36mopen_file\u001b[1;34m(filename)\u001b[0m\n\u001b[0;32m      2\u001b[0m encoding \u001b[38;5;241m=\u001b[39m \u001b[38;5;28minput\u001b[39m(\u001b[38;5;124m\"\u001b[39m\u001b[38;5;124mInput the encoding (ASCII,UTF-16,UTF-8)for the file:\u001b[39m\u001b[38;5;124m\"\u001b[39m)\n\u001b[0;32m      3\u001b[0m \u001b[38;5;28;01mtry\u001b[39;00m:\n\u001b[1;32m----> 4\u001b[0m     \u001b[38;5;28;01mwith\u001b[39;00m \u001b[38;5;28;43mopen\u001b[39;49m\u001b[43m(\u001b[49m\u001b[43mfilename\u001b[49m\u001b[43m,\u001b[49m\u001b[43m \u001b[49m\u001b[38;5;124;43m'\u001b[39;49m\u001b[38;5;124;43mr\u001b[39;49m\u001b[38;5;124;43m'\u001b[39;49m\u001b[43m,\u001b[49m\u001b[43m \u001b[49m\u001b[43mencoding\u001b[49m\u001b[38;5;241;43m=\u001b[39;49m\u001b[43mencoding\u001b[49m\u001b[43m)\u001b[49m \u001b[38;5;28;01mas\u001b[39;00m file:\n\u001b[0;32m      5\u001b[0m         contents \u001b[38;5;241m=\u001b[39m file\u001b[38;5;241m.\u001b[39mread()\n\u001b[0;32m      6\u001b[0m         \u001b[38;5;28mprint\u001b[39m(\u001b[38;5;124m\"\u001b[39m\u001b[38;5;124mFile contents\u001b[39m\u001b[38;5;124m\"\u001b[39m)\n",
      "File \u001b[1;32m~\\anaconda3\\lib\\site-packages\\IPython\\core\\interactiveshell.py:282\u001b[0m, in \u001b[0;36m_modified_open\u001b[1;34m(file, *args, **kwargs)\u001b[0m\n\u001b[0;32m    275\u001b[0m \u001b[38;5;28;01mif\u001b[39;00m file \u001b[38;5;129;01min\u001b[39;00m {\u001b[38;5;241m0\u001b[39m, \u001b[38;5;241m1\u001b[39m, \u001b[38;5;241m2\u001b[39m}:\n\u001b[0;32m    276\u001b[0m     \u001b[38;5;28;01mraise\u001b[39;00m \u001b[38;5;167;01mValueError\u001b[39;00m(\n\u001b[0;32m    277\u001b[0m         \u001b[38;5;124mf\u001b[39m\u001b[38;5;124m\"\u001b[39m\u001b[38;5;124mIPython won\u001b[39m\u001b[38;5;124m'\u001b[39m\u001b[38;5;124mt let you open fd=\u001b[39m\u001b[38;5;132;01m{\u001b[39;00mfile\u001b[38;5;132;01m}\u001b[39;00m\u001b[38;5;124m by default \u001b[39m\u001b[38;5;124m\"\u001b[39m\n\u001b[0;32m    278\u001b[0m         \u001b[38;5;124m\"\u001b[39m\u001b[38;5;124mas it is likely to crash IPython. If you know what you are doing, \u001b[39m\u001b[38;5;124m\"\u001b[39m\n\u001b[0;32m    279\u001b[0m         \u001b[38;5;124m\"\u001b[39m\u001b[38;5;124myou can use builtins\u001b[39m\u001b[38;5;124m'\u001b[39m\u001b[38;5;124m open.\u001b[39m\u001b[38;5;124m\"\u001b[39m\n\u001b[0;32m    280\u001b[0m     )\n\u001b[1;32m--> 282\u001b[0m \u001b[38;5;28;01mreturn\u001b[39;00m io_open(file, \u001b[38;5;241m*\u001b[39margs, \u001b[38;5;241m*\u001b[39m\u001b[38;5;241m*\u001b[39mkwargs)\n",
      "\u001b[1;31mFileNotFoundError\u001b[0m: [Errno 2] No such file or directory: 'unicode.txt'"
     ]
    }
   ],
   "source": [
    "def open_file(filename):\n",
    "    encoding = input(\"Input the encoding (ASCII,UTF-16,UTF-8)for the file:\")\n",
    "    try:\n",
    "        with open(filename, 'r', encoding=encoding) as file:\n",
    "            contents = file.read()\n",
    "            print(\"File contents\")\n",
    "            print(contents)\n",
    "    except UnicodeDecodeError:\n",
    "        print(\"Error: Encoding issue occured while reading\")\n",
    "file_name = input(\"Input the file name:\")\n",
    "open_file(file_name)\n",
    "    "
   ]
  },
  {
   "cell_type": "code",
   "execution_count": 9,
   "id": "c3feb077",
   "metadata": {},
   "outputs": [
    {
     "name": "stdout",
     "output_type": "stream",
     "text": [
      "length of the list: 5\n"
     ]
    }
   ],
   "source": [
    "def test_list_operations(nums):\n",
    "    try:\n",
    "        r = len(nums)\n",
    "        print(\"length of the list:\", r)\n",
    "    except AttributeError:\n",
    "        print(\"Error: The list does not have a 'length' attribute\")\n",
    "nums = [1,2,3,4,5]\n",
    "test_list_operations(nums)"
   ]
  },
  {
   "cell_type": "code",
   "execution_count": null,
   "id": "3f44477f",
   "metadata": {},
   "outputs": [],
   "source": []
  }
 ],
 "metadata": {
  "kernelspec": {
   "display_name": "Python 3 (ipykernel)",
   "language": "python",
   "name": "python3"
  },
  "language_info": {
   "codemirror_mode": {
    "name": "ipython",
    "version": 3
   },
   "file_extension": ".py",
   "mimetype": "text/x-python",
   "name": "python",
   "nbconvert_exporter": "python",
   "pygments_lexer": "ipython3",
   "version": "3.10.9"
  }
 },
 "nbformat": 4,
 "nbformat_minor": 5
}
