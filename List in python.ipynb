{
 "cells": [
  {
   "cell_type": "code",
   "execution_count": null,
   "id": "ffdd5553",
   "metadata": {},
   "outputs": [],
   "source": [
    "# python collection\n",
    "# list \n",
    "# tuple \n",
    "# dictionery\n",
    "# set"
   ]
  },
  {
   "cell_type": "code",
   "execution_count": null,
   "id": "4f4b9856",
   "metadata": {},
   "outputs": [],
   "source": [
    "# List\n",
    "# indexing\n",
    "# Multiple and duplicate\n",
    "# Ordered\n",
    "# Mutuable"
   ]
  },
  {
   "cell_type": "code",
   "execution_count": null,
   "id": "056598e3",
   "metadata": {},
   "outputs": [],
   "source": [
    "a = [1,2,3,4,5,6]\n",
    "b = [\"apple\", \"ball\" , \"call\"]\n",
    "print(type(a))\n",
    "print(type(b))"
   ]
  },
  {
   "cell_type": "code",
   "execution_count": null,
   "id": "4f7bc050",
   "metadata": {},
   "outputs": [],
   "source": [
    "l = [\"Apple\", \"Ball\", \"Cat\", \"Egg\", \"Fish\"]\n",
    "print(l[0])\n",
    "print(l[0:4])\n",
    "print(l[0:5:2])\n",
    "print(l)\n"
   ]
  },
  {
   "cell_type": "code",
   "execution_count": null,
   "id": "87643985",
   "metadata": {},
   "outputs": [],
   "source": [
    "# operator are used in list * +"
   ]
  },
  {
   "cell_type": "code",
   "execution_count": null,
   "id": "057eb55e",
   "metadata": {},
   "outputs": [],
   "source": [
    "a = [1,2,3,4,5]\n",
    "b = [6,7,8,9]\n",
    "c = a+b\n",
    "print(c)"
   ]
  },
  {
   "cell_type": "code",
   "execution_count": null,
   "id": "5c8b35cd",
   "metadata": {},
   "outputs": [],
   "source": [
    "a = [1,3,4,5,6]\n",
    "print(a*2)"
   ]
  },
  {
   "cell_type": "code",
   "execution_count": null,
   "id": "b28d8f16",
   "metadata": {},
   "outputs": [],
   "source": [
    "# append() inset() extend()"
   ]
  },
  {
   "cell_type": "code",
   "execution_count": null,
   "id": "45cc5f78",
   "metadata": {},
   "outputs": [],
   "source": [
    "l = []\n",
    "n = int(input(\"Enter n \"))\n",
    "for i in range(n):\n",
    "    x = int(input(\"Enter x\"))\n",
    "    l.append(x)\n",
    "print(l)\n",
    "    "
   ]
  },
  {
   "cell_type": "code",
   "execution_count": null,
   "id": "3c111a8a",
   "metadata": {},
   "outputs": [],
   "source": [
    "l = [1,4,5,6,7,6]\n",
    "l.insert(2,9)\n",
    "\n",
    "l"
   ]
  },
  {
   "cell_type": "code",
   "execution_count": null,
   "id": "42764bcf",
   "metadata": {},
   "outputs": [],
   "source": [
    "l = [2,3,4,5,6,8]\n",
    "a = [1,4,5,6]\n",
    "l.extend(a)\n",
    "l"
   ]
  },
  {
   "cell_type": "code",
   "execution_count": null,
   "id": "24efa7e6",
   "metadata": {},
   "outputs": [],
   "source": [
    "l = [233,432,123,345,332,322,5665]\n",
    "print(\"Maximum value is \",max(l))\n",
    "print(\"Minimum value is\", min(l))\n",
    "print(\"Total Sum is \", sum(l))\n",
    "l.sort()\n",
    "print(l)\n",
    "l.reverse()\n",
    "print(l)"
   ]
  },
  {
   "cell_type": "code",
   "execution_count": null,
   "id": "ed010b64",
   "metadata": {},
   "outputs": [],
   "source": [
    "a = [\"Ball\", \"Cat\", \"apple\", \"boom\", \"Dog\"]\n",
    "a.sort()\n",
    "print(a)"
   ]
  },
  {
   "cell_type": "code",
   "execution_count": null,
   "id": "3849f69d",
   "metadata": {},
   "outputs": [],
   "source": [
    "a = [\"Ball\", \"Cat\", \"apple\", \"boom\", \"Dog\"]\n",
    "for i in a:\n",
    "    print(i)"
   ]
  },
  {
   "cell_type": "code",
   "execution_count": null,
   "id": "cd6ffaab",
   "metadata": {},
   "outputs": [],
   "source": [
    "a = [\"Ball\", \"Cat\", \"apple\", \"boom\", \"Dog\"]\n",
    "if \"Ball\" in a:\n",
    "    print(\"yes\")\n",
    "else:\n",
    "    print(\"no\")"
   ]
  },
  {
   "cell_type": "code",
   "execution_count": null,
   "id": "68198a47",
   "metadata": {},
   "outputs": [],
   "source": [
    "a = [\"Ball\", \"Cat\", \"apple\", \"boom\", \"Dog\",\"cat\"]\n",
    "if \"Cat\"  in a:\n",
    "    if \"cat\" in a:\n",
    "        print(\"yes\")\n",
    "        print(a.count(\"cat\"))\n",
    "    else:\n",
    "        print(\"no\")\n",
    "    print(\"Yes\")\n",
    "    print(a.count(\"Cat\"))\n",
    "else:\n",
    "    print(\"no\")"
   ]
  },
  {
   "cell_type": "code",
   "execution_count": null,
   "id": "cf9f8934",
   "metadata": {},
   "outputs": [],
   "source": [
    "# WAP to search any values in a list having no case sensitivity"
   ]
  },
  {
   "cell_type": "code",
   "execution_count": null,
   "id": "dc86c5cf",
   "metadata": {},
   "outputs": [],
   "source": [
    "# delete values\n",
    "# del pop() remove()"
   ]
  },
  {
   "cell_type": "code",
   "execution_count": null,
   "id": "2e288a28",
   "metadata": {},
   "outputs": [],
   "source": [
    "a = [\"Ball\", \"Cat\", \"apple\", \"boom\", \"Dog\"]\n",
    "del a[2]\n",
    "print(a)"
   ]
  },
  {
   "cell_type": "code",
   "execution_count": null,
   "id": "266c7049",
   "metadata": {},
   "outputs": [],
   "source": [
    "a = [\"Ball\", \"Cat\", \"apple\", \"boom\", \"Dog\"]\n",
    "del a[0:2]\n",
    "print(a)"
   ]
  },
  {
   "cell_type": "code",
   "execution_count": null,
   "id": "e3f89e36",
   "metadata": {},
   "outputs": [],
   "source": [
    "a = [\"Ball\", \"Cat\", \"apple\", \"boom\", \"Dog\"]\n",
    "b =a.pop()\n",
    "print(a)\n",
    "print(b)"
   ]
  },
  {
   "cell_type": "code",
   "execution_count": null,
   "id": "77bef33f",
   "metadata": {},
   "outputs": [],
   "source": [
    "a = [\"Ball\", \"Cat\", \"apple\", \"boom\", \"Dog\", \"Ball\"]\n",
    "a.remove(\"Ball\")\n",
    "print(a)"
   ]
  },
  {
   "cell_type": "code",
   "execution_count": null,
   "id": "a3da4dda",
   "metadata": {},
   "outputs": [],
   "source": [
    "# wap to remove multiple duplicate value from list"
   ]
  },
  {
   "cell_type": "code",
   "execution_count": null,
   "id": "5db60892",
   "metadata": {},
   "outputs": [],
   "source": [
    "a = [\"Ball\", \"Cat\", \"apple\", \"boom\", \"Dog\", \"Ball\"]\n",
    "for i in a:\n",
    "    if \"Ball\" in i:\n",
    "        b = a.remove()\n",
    "    else:\n",
    "        print(\"no change\")\n",
    "print(a)\n",
    "print(b)\n",
    "    "
   ]
  },
  {
   "cell_type": "code",
   "execution_count": null,
   "id": "03a6b0a3",
   "metadata": {},
   "outputs": [],
   "source": [
    "# update"
   ]
  },
  {
   "cell_type": "code",
   "execution_count": null,
   "id": "6b93e7ea",
   "metadata": {},
   "outputs": [],
   "source": [
    "a = [\"Ball\", \"Cat\", \"apple\", \"boom\", \"Dog\"]\n",
    "a[0] = \"Don\"\n",
    "a\n"
   ]
  },
  {
   "cell_type": "code",
   "execution_count": null,
   "id": "c62a4806",
   "metadata": {},
   "outputs": [],
   "source": [
    "a = [\"Ball\", \"Cat\", \"apple\", \"boom\", \"Dog\"]\n",
    "a[0:2] = [\"Apple\", \"Ball\"]\n",
    "a\n"
   ]
  },
  {
   "cell_type": "code",
   "execution_count": null,
   "id": "f8a0255b",
   "metadata": {},
   "outputs": [],
   "source": [
    "a = [\"Ball\", \"Cat\", \"apple\", \"boom\", \"Dog\",\"cat\"]\n",
    "if \"Cat\"  in a:\n",
    "    if \"cat\" in a:\n",
    "        print(\"yes\")\n",
    "        print(a.count(\"cat\"))\n",
    "    else:\n",
    "        print(\"no\")\n",
    "    print(\"Yes\")\n",
    "    print(a.count(\"Cat\"))\n",
    "else:\n",
    "    print(\"no\")"
   ]
  },
  {
   "cell_type": "code",
   "execution_count": 1,
   "id": "8909dbc9",
   "metadata": {},
   "outputs": [
    {
     "name": "stdout",
     "output_type": "stream",
     "text": [
      "Yes\n",
      "2\n"
     ]
    }
   ],
   "source": [
    "a = [\"Ball\", \"Cat\", \"apple\", \"boom\", \"Dog\",\"cat\"]\n",
    "b = str(a)\n",
    "c = b.upper()\n",
    "\n",
    "if \"CAT\" in c:\n",
    "    print(\"Yes\")\n",
    "    \n",
    "    print(c.count(\"CAT\"))\n",
    "else:\n",
    "    print(\"no\")"
   ]
  },
  {
   "cell_type": "code",
   "execution_count": null,
   "id": "dacb951b",
   "metadata": {},
   "outputs": [],
   "source": [
    "a = [\"Ball\", \"Cat\", \"apple\", \"boom\", \"Dog\",\"cat\"]\n",
    "b = str(a)\n",
    "c = b.lower()\n",
    "if \"cat\" in c:\n",
    "    print(\"Yes\")\n",
    "    print(c.count(\"cat\"))\n",
    "else:\n",
    "    print(\"No\")"
   ]
  },
  {
   "cell_type": "code",
   "execution_count": 17,
   "id": "4393132f",
   "metadata": {},
   "outputs": [
    {
     "name": "stdout",
     "output_type": "stream",
     "text": [
      "s\n",
      "Try until you solve it or better to die\n",
      "['ball', 'cat', 'apple', 'boom', 'dog', 'cat']\n",
      "['[', \"'\", 'b', 'a', 'l', 'l', \"'\", ',', ' ', \"'\", 'c', 'a', 't', \"'\", ',', ' ', \"'\", 'a', 'p', 'p', 'l', 'e', \"'\", ',', ' ', \"'\", 'b', 'o', 'o', 'm', \"'\", ',', ' ', \"'\", 'd', 'o', 'g', \"'\", ',', ' ', \"'\", 'c', 'a', 't', \"'\", ']']\n"
     ]
    }
   ],
   "source": [
    "x = [\"Ball\",\"Cat\",\"apple\",\"boom\",\"Dog\",\"cat\"]\n",
    "y = str(x)\n",
    "z = y.lower()\n",
    "w = []\n",
    "if \"cat\" in z:\n",
    "    print(\"s\")\n",
    "    w.extend(z)\n",
    "    if \"cat\" in w:\n",
    "        print(w.remove(\"cat\"))\n",
    "    else:\n",
    "        print(\"Try until you solve it or better to die\")\n",
    "else:\n",
    "    print(\"Try again bro you can\")\n",
    "print(z)\n",
    "print(w)"
   ]
  },
  {
   "cell_type": "code",
   "execution_count": 18,
   "id": "6e61a688",
   "metadata": {},
   "outputs": [
    {
     "ename": "TypeError",
     "evalue": "unhashable type: 'list'",
     "output_type": "error",
     "traceback": [
      "\u001b[1;31m---------------------------------------------------------------------------\u001b[0m",
      "\u001b[1;31mTypeError\u001b[0m                                 Traceback (most recent call last)",
      "Cell \u001b[1;32mIn[18], line 7\u001b[0m\n\u001b[0;32m      5\u001b[0m     \u001b[38;5;28;01mif\u001b[39;00m a \u001b[38;5;129;01mnot\u001b[39;00m \u001b[38;5;129;01min\u001b[39;00m dup_items:\n\u001b[0;32m      6\u001b[0m         uniq_items\u001b[38;5;241m.\u001b[39mappend(a)\n\u001b[1;32m----> 7\u001b[0m         \u001b[43mdup_items\u001b[49m\u001b[38;5;241;43m.\u001b[39;49m\u001b[43madd\u001b[49m\u001b[43m(\u001b[49m\u001b[43mx\u001b[49m\u001b[43m)\u001b[49m\n\u001b[0;32m      9\u001b[0m \u001b[38;5;28mprint\u001b[39m(dup_items)\n",
      "\u001b[1;31mTypeError\u001b[0m: unhashable type: 'list'"
     ]
    }
   ],
   "source": [
    "x = [\"Ball\",\"Cat\",\"apple\",\"boom\",\"Dog\",\"cat\"]\n",
    "dup_items = set()\n",
    "uniq_items = []\n",
    "for a in x:\n",
    "    if a not in dup_items:\n",
    "        uniq_items.append(a)\n",
    "        dup_items.add(x)\n",
    "        \n",
    "print(dup_items)"
   ]
  },
  {
   "cell_type": "code",
   "execution_count": 19,
   "id": "7748bef4",
   "metadata": {},
   "outputs": [
    {
     "name": "stdout",
     "output_type": "stream",
     "text": [
      "{40, 10, 80, 50, 20, 60, 30}\n"
     ]
    }
   ],
   "source": [
    "a = [10,20,30,20,10,50,60,40,80,50,40]\n",
    "\n",
    "dup_items = set()\n",
    "uniq_items = []\n",
    "for x in a:\n",
    "    if x not in dup_items:\n",
    "        uniq_items.append(x)\n",
    "        dup_items.add(x)\n",
    "\n",
    "print(dup_items)"
   ]
  },
  {
   "cell_type": "code",
   "execution_count": 20,
   "id": "0a4d3946",
   "metadata": {},
   "outputs": [
    {
     "name": "stdout",
     "output_type": "stream",
     "text": [
      "12\n"
     ]
    }
   ],
   "source": [
    "def sum_list(items):\n",
    "    sum_numbers = 0\n",
    "    for x in items:\n",
    "        sum_numbers +=x\n",
    "    return sum_numbers\n",
    "print(sum_list([1,3,4,4]))"
   ]
  },
  {
   "cell_type": "code",
   "execution_count": 24,
   "id": "297cf9a5",
   "metadata": {},
   "outputs": [
    {
     "name": "stdout",
     "output_type": "stream",
     "text": [
      "[2, 3, 4, 5, 6]\n"
     ]
    }
   ],
   "source": [
    "num = [2,3,4,5,6]\n",
    "\n",
    "for x in num:\n",
    "    sum_numbers = 0\n",
    "    sum_numbers +=x\n",
    "print(num)"
   ]
  },
  {
   "cell_type": "code",
   "execution_count": 25,
   "id": "6709962d",
   "metadata": {},
   "outputs": [
    {
     "name": "stdout",
     "output_type": "stream",
     "text": [
      "-8\n"
     ]
    }
   ],
   "source": [
    "def multi_list(items):\n",
    "    tot = 1\n",
    "    for x in items:\n",
    "        tot *= x\n",
    "    return tot\n",
    "print(multi_list([1,2,-4]))"
   ]
  },
  {
   "cell_type": "code",
   "execution_count": 28,
   "id": "00312c89",
   "metadata": {},
   "outputs": [
    {
     "name": "stdout",
     "output_type": "stream",
     "text": [
      "33\n"
     ]
    }
   ],
   "source": [
    "a = [3,3,2,4,33,4,4]\n",
    "b = max(a)\n",
    "print(b)"
   ]
  },
  {
   "cell_type": "code",
   "execution_count": 29,
   "id": "3b1865f4",
   "metadata": {},
   "outputs": [
    {
     "name": "stdout",
     "output_type": "stream",
     "text": [
      "7\n"
     ]
    }
   ],
   "source": [
    "def max(list):\n",
    "    ma = list[0]\n",
    "    for a in list:\n",
    "        if a > ma:\n",
    "            ma = a\n",
    "    return ma\n",
    "print(max([1,3,4,5,7]))"
   ]
  },
  {
   "cell_type": "code",
   "execution_count": 33,
   "id": "e2c2706a",
   "metadata": {},
   "outputs": [
    {
     "name": "stdout",
     "output_type": "stream",
     "text": [
      "0\n"
     ]
    }
   ],
   "source": [
    "def min(list):\n",
    "    mi = list[0]\n",
    "    for x in list:\n",
    "        if x <= mi:\n",
    "            mi = x\n",
    "    return mi\n",
    "print(min([2,3,4,1,0]))"
   ]
  },
  {
   "cell_type": "code",
   "execution_count": null,
   "id": "f04805e7",
   "metadata": {},
   "outputs": [],
   "source": [
    "c = 0\n",
    "l =  [\"Ball\",\"Cat\",\"apple\",\"boom\",\"Dog\",\"cat\"]\n",
    "value = input(\"Enter\")\n",
    "for i in l:\n",
    "    if i.lower() == value.lower():\n",
    "        print(\"Yes\")\n",
    "        c = c +1\n",
    "        print(c)"
   ]
  },
  {
   "cell_type": "code",
   "execution_count": 2,
   "id": "63bc5252",
   "metadata": {},
   "outputs": [
    {
     "name": "stdout",
     "output_type": "stream",
     "text": [
      "['Ball', 'apple', 'boom', 'Dog']\n"
     ]
    }
   ],
   "source": [
    "l =  [\"Ball\",\"Cat\",\"apple\",\"boom\",\"Dog\",\"Cat\"]\n",
    "c = l.count(\"Cat\")\n",
    "for i in range(c):\n",
    "    l.remove(\"Cat\")\n",
    "print(l)"
   ]
  },
  {
   "cell_type": "code",
   "execution_count": null,
   "id": "b3c94b0d",
   "metadata": {},
   "outputs": [],
   "source": []
  }
 ],
 "metadata": {
  "kernelspec": {
   "display_name": "Python 3 (ipykernel)",
   "language": "python",
   "name": "python3"
  },
  "language_info": {
   "codemirror_mode": {
    "name": "ipython",
    "version": 3
   },
   "file_extension": ".py",
   "mimetype": "text/x-python",
   "name": "python",
   "nbconvert_exporter": "python",
   "pygments_lexer": "ipython3",
   "version": "3.10.9"
  }
 },
 "nbformat": 4,
 "nbformat_minor": 5
}
