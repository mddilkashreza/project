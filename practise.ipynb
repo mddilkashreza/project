{
 "cells": [
  {
   "cell_type": "code",
   "execution_count": 1,
   "id": "f2566233",
   "metadata": {},
   "outputs": [
    {
     "name": "stdout",
     "output_type": "stream",
     "text": [
      "Enter1\n",
      "Enter a name Dilkash\n",
      "Enter a price 55\n",
      "Enter quantity 3\n",
      "Dilkash 55 3.0 165.0 \n",
      "\n",
      "165.0\n"
     ]
    }
   ],
   "source": [
    "bill = \"\"\n",
    "grand_total = 0\n",
    "n = int(input(\"Enter\"))\n",
    "for i in range(n):\n",
    "    name = input(\"Enter a name \")\n",
    "    price = int(input(\"Enter a price \"))\n",
    "    quantity = float(input(\"Enter quantity \"))\n",
    "    total = price * quantity\n",
    "    bill = bill + f\"{name} {price} {quantity} {total} \\n\"\n",
    "    grand_total = grand_total + total\n",
    "    print(bill)\n",
    "    print(grand_total)"
   ]
  },
  {
   "cell_type": "code",
   "execution_count": 3,
   "id": "267edd90",
   "metadata": {},
   "outputs": [
    {
     "name": "stdout",
     "output_type": "stream",
     "text": [
      "aneeH hsakli\n",
      "aneeH hsakliD\n"
     ]
    }
   ],
   "source": [
    "a = \"Dilkash Heena\"\n",
    "print(a[-1:0:-1])\n",
    "print(a[::-1])"
   ]
  },
  {
   "cell_type": "code",
   "execution_count": 4,
   "id": "d981fad9",
   "metadata": {},
   "outputs": [
    {
     "name": "stdout",
     "output_type": "stream",
     "text": [
      "Hello World I amRamI am fromKathmanduI am34\n"
     ]
    }
   ],
   "source": [
    "name = \"Ram\"\n",
    "age = 34\n",
    "add = \"Kathmandu\"\n",
    "\n",
    "info = \"Hello World I am\" +name+\"I am from\"+add+\"I am\"+str(age)\n",
    "print(info)"
   ]
  },
  {
   "cell_type": "code",
   "execution_count": 5,
   "id": "50689bdf",
   "metadata": {},
   "outputs": [
    {
     "name": "stdout",
     "output_type": "stream",
     "text": [
      "Enter name = Dilkash\n",
      "Enter age =22\n",
      "Enter add =Tinkune\n",
      "Hello World! I am Dilkash. I am from Tinkune. I am 22.\n"
     ]
    }
   ],
   "source": [
    "name = input(\"Enter name = \")\n",
    "age = int(input(\"Enter age =\"))\n",
    "add = input(\"Enter add =\")\n",
    "info = f\"Hello World! I am {name}. I am from {add}. I am {age}.\"\n",
    "print(info)"
   ]
  },
  {
   "cell_type": "code",
   "execution_count": 6,
   "id": "73364917",
   "metadata": {},
   "outputs": [
    {
     "name": "stdout",
     "output_type": "stream",
     "text": [
      "6\n"
     ]
    }
   ],
   "source": [
    "a = \"Python\"\n",
    "l = len(a)\n",
    "print(l)"
   ]
  },
  {
   "cell_type": "code",
   "execution_count": 8,
   "id": "77a9eade",
   "metadata": {},
   "outputs": [
    {
     "name": "stdout",
     "output_type": "stream",
     "text": [
      "P\n",
      "y\n",
      "t\n",
      "h\n",
      "o\n",
      "n\n"
     ]
    }
   ],
   "source": [
    "a = \"Python\"\n",
    "l = len(a)\n",
    "for i in range(l):\n",
    "    print(a[i])"
   ]
  },
  {
   "cell_type": "code",
   "execution_count": 9,
   "id": "b3f7209b",
   "metadata": {},
   "outputs": [
    {
     "name": "stdout",
     "output_type": "stream",
     "text": [
      "Python"
     ]
    }
   ],
   "source": [
    "i = 0\n",
    "a = \"Python\"\n",
    "while i<len(a):\n",
    "    print(a[i], end = \"\")\n",
    "    i = i + 1"
   ]
  },
  {
   "cell_type": "code",
   "execution_count": 10,
   "id": "ffad1d52",
   "metadata": {},
   "outputs": [
    {
     "name": "stdout",
     "output_type": "stream",
     "text": [
      "I love you maya\n"
     ]
    }
   ],
   "source": [
    "a = \"Ram\", \"Shyam\", \"Sita\", \"Heena\", \"Dilkash\"\n",
    "if \"Heena\" in a:\n",
    "    print(\"I love you maya\")\n",
    "else:\n",
    "    print(\"I love you maya\")"
   ]
  },
  {
   "cell_type": "code",
   "execution_count": 11,
   "id": "417c9720",
   "metadata": {},
   "outputs": [
    {
     "name": "stdout",
     "output_type": "stream",
     "text": [
      "Enter a name =Salil\n",
      "yes you are\n"
     ]
    }
   ],
   "source": [
    "a = \"Ram\", \"Salil\", \"Heena\", \"Dilkash\"\n",
    "name = input(\"Enter a name =\")\n",
    "if name in a:\n",
    "    print(\"yes you are\")\n",
    "else:\n",
    "    print(\"Not Matched\")"
   ]
  },
  {
   "cell_type": "code",
   "execution_count": 12,
   "id": "11a80b8e",
   "metadata": {},
   "outputs": [
    {
     "name": "stdout",
     "output_type": "stream",
     "text": [
      "25\n"
     ]
    }
   ],
   "source": [
    "def string_length(str1):\n",
    "    count = 0\n",
    "    for char in str1:\n",
    "        count +=1\n",
    "    return count\n",
    "print(string_length(\"I am full stack developer\"))"
   ]
  },
  {
   "cell_type": "code",
   "execution_count": 13,
   "id": "31313f3e",
   "metadata": {},
   "outputs": [
    {
     "name": "stdout",
     "output_type": "stream",
     "text": [
      "Enter a full sentence!I am full stack developer\n",
      "25\n"
     ]
    }
   ],
   "source": [
    "word = input(\"Enter a full sentence!\")\n",
    "def string_length(str1):\n",
    "    count = 0\n",
    "    for char in str1:\n",
    "        count +=1\n",
    "    return count\n",
    "print(string_length(word))"
   ]
  },
  {
   "cell_type": "code",
   "execution_count": 16,
   "id": "a7aecf26",
   "metadata": {},
   "outputs": [
    {
     "name": "stdout",
     "output_type": "stream",
     "text": [
      "{'g': 2, 'o': 3, 'l': 1, 'e': 1, '.': 1, 'c': 1, 'm': 1}\n"
     ]
    }
   ],
   "source": [
    "def char_frequency(str1):\n",
    "    dict={}\n",
    "    for n in str1:\n",
    "        keys = dict.keys()\n",
    "        if n in keys:\n",
    "            dict[n] +=1\n",
    "        else:\n",
    "            dict[n] = 1\n",
    "    return dict\n",
    "print(char_frequency(\"google.com\"))"
   ]
  },
  {
   "cell_type": "code",
   "execution_count": 17,
   "id": "4784eb71",
   "metadata": {},
   "outputs": [
    {
     "name": "stdout",
     "output_type": "stream",
     "text": [
      "I er\n"
     ]
    }
   ],
   "source": [
    "def string_both_end(str):\n",
    "    if len(str) < 2:\n",
    "        return ''\n",
    "    return str[0:2] + str[-2:]\n",
    "print(string_both_end(\"I am full stack developer\"))"
   ]
  },
  {
   "cell_type": "code",
   "execution_count": null,
   "id": "a028dbfd",
   "metadata": {},
   "outputs": [],
   "source": []
  },
  {
   "cell_type": "code",
   "execution_count": null,
   "id": "8cf8a546",
   "metadata": {},
   "outputs": [],
   "source": []
  },
  {
   "cell_type": "code",
   "execution_count": null,
   "id": "706effa8",
   "metadata": {},
   "outputs": [],
   "source": []
  },
  {
   "cell_type": "code",
   "execution_count": null,
   "id": "4c175694",
   "metadata": {},
   "outputs": [],
   "source": []
  },
  {
   "cell_type": "code",
   "execution_count": null,
   "id": "78c9867b",
   "metadata": {},
   "outputs": [],
   "source": []
  }
 ],
 "metadata": {
  "kernelspec": {
   "display_name": "Python 3 (ipykernel)",
   "language": "python",
   "name": "python3"
  },
  "language_info": {
   "codemirror_mode": {
    "name": "ipython",
    "version": 3
   },
   "file_extension": ".py",
   "mimetype": "text/x-python",
   "name": "python",
   "nbconvert_exporter": "python",
   "pygments_lexer": "ipython3",
   "version": "3.10.9"
  }
 },
 "nbformat": 4,
 "nbformat_minor": 5
}
