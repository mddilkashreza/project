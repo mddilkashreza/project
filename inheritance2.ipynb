{
 "cells": [
  {
   "cell_type": "code",
   "execution_count": null,
   "id": "d7525989",
   "metadata": {},
   "outputs": [],
   "source": [
    "# multilevel inheritance"
   ]
  },
  {
   "cell_type": "code",
   "execution_count": 4,
   "id": "fe8aeefb",
   "metadata": {},
   "outputs": [
    {
     "name": "stdout",
     "output_type": "stream",
     "text": [
      "Enter name = d\n",
      "Enter age = 3\n",
      "Enter add = r\n",
      "Hello World I am d. I am from r. I am 3\n"
     ]
    }
   ],
   "source": [
    "class Add:\n",
    "    def __init__(self,add):\n",
    "        self.add = add\n",
    "class Info:\n",
    "    def __init__(self,age,add):\n",
    "        self.age = age\n",
    "        Add.__init__(self,add)\n",
    "class Data(Info):\n",
    "    def __init__(self,name,age,add):\n",
    "        self.name = name\n",
    "        Info.__init__(self,age,add)\n",
    "        \n",
    "    def info(self):\n",
    "        print(f\"Hello World I am {self.name}. I am from {self.add}. I am {self.age}\")\n",
    "        \n",
    "        \n",
    "name = input(\"Enter name = \")\n",
    "age = int(input(\"Enter age = \"))\n",
    "add = input(\"Enter add = \")\n",
    "obj = Data(name,age,add)\n",
    "obj.info()\n"
   ]
  },
  {
   "cell_type": "code",
   "execution_count": 6,
   "id": "85522c7e",
   "metadata": {},
   "outputs": [
    {
     "name": "stdout",
     "output_type": "stream",
     "text": [
      "Enter name = dilkash\n",
      "Enter age = 21\n",
      "Enter add = tinkune\n",
      "Hello World I am dilkash. I am from tinkune. I am 21\n"
     ]
    }
   ],
   "source": [
    "class Add:\n",
    "    def __init__(self):\n",
    "        self.add = input(\"Enter add = \")\n",
    "        \n",
    "class Info:\n",
    "    def __init__(self):\n",
    "        self.age = int(input(\"Enter age = \"))\n",
    "        \n",
    "        \n",
    "class Data(Info, Add):\n",
    "    def __init__(self):\n",
    "        self.name = input(\"Enter name = \")\n",
    "        Info.__init__(self)\n",
    "        Add.__init__(self)\n",
    "        \n",
    "    def info(self):\n",
    "        print(f\"Hello World I am {self.name}. I am from {self.add}. I am {self.age}\")\n",
    "        \n",
    "        \n",
    "obj=Data()\n",
    "obj.info()"
   ]
  },
  {
   "cell_type": "code",
   "execution_count": 8,
   "id": "46112fe0",
   "metadata": {},
   "outputs": [
    {
     "name": "stdout",
     "output_type": "stream",
     "text": [
      "Enter name = Heena\n",
      "Enter age = 16\n",
      "Enter add = Buspark\n"
     ]
    },
    {
     "ename": "AttributeError",
     "evalue": "'Data' object has no attribute 'age'",
     "output_type": "error",
     "traceback": [
      "\u001b[1;31m---------------------------------------------------------------------------\u001b[0m",
      "\u001b[1;31mAttributeError\u001b[0m                            Traceback (most recent call last)",
      "Cell \u001b[1;32mIn[8], line 23\u001b[0m\n\u001b[0;32m     21\u001b[0m age \u001b[38;5;241m=\u001b[39m \u001b[38;5;28mint\u001b[39m(\u001b[38;5;28minput\u001b[39m(\u001b[38;5;124m\"\u001b[39m\u001b[38;5;124mEnter age = \u001b[39m\u001b[38;5;124m\"\u001b[39m))\n\u001b[0;32m     22\u001b[0m add \u001b[38;5;241m=\u001b[39m \u001b[38;5;28minput\u001b[39m(\u001b[38;5;124m\"\u001b[39m\u001b[38;5;124mEnter add = \u001b[39m\u001b[38;5;124m\"\u001b[39m)\n\u001b[1;32m---> 23\u001b[0m obj \u001b[38;5;241m=\u001b[39m \u001b[43mData\u001b[49m\u001b[43m(\u001b[49m\u001b[43mname\u001b[49m\u001b[43m,\u001b[49m\u001b[43mage\u001b[49m\u001b[43m,\u001b[49m\u001b[43madd\u001b[49m\u001b[43m)\u001b[49m\n\u001b[0;32m     24\u001b[0m obj\u001b[38;5;241m.\u001b[39minfo()\n",
      "Cell \u001b[1;32mIn[8], line 12\u001b[0m, in \u001b[0;36mData.__init__\u001b[1;34m(self, name, age, add)\u001b[0m\n\u001b[0;32m     10\u001b[0m \u001b[38;5;28;01mdef\u001b[39;00m \u001b[38;5;21m__init__\u001b[39m(\u001b[38;5;28mself\u001b[39m,name,age,add):\n\u001b[0;32m     11\u001b[0m     \u001b[38;5;28mself\u001b[39m\u001b[38;5;241m.\u001b[39mname \u001b[38;5;241m=\u001b[39m name\n\u001b[1;32m---> 12\u001b[0m     Age\u001b[38;5;241m.\u001b[39m\u001b[38;5;21m__init__\u001b[39m(\u001b[38;5;28;43mself\u001b[39;49m\u001b[38;5;241;43m.\u001b[39;49m\u001b[43mage\u001b[49m)\n\u001b[0;32m     13\u001b[0m     Add\u001b[38;5;241m.\u001b[39m\u001b[38;5;21m__init__\u001b[39m(\u001b[38;5;28mself\u001b[39m\u001b[38;5;241m.\u001b[39madd)\n",
      "\u001b[1;31mAttributeError\u001b[0m: 'Data' object has no attribute 'age'"
     ]
    }
   ],
   "source": [
    "class Add:\n",
    "    def __init__(self,add):\n",
    "        self.add = add\n",
    "class Age:\n",
    "    def __init__(self,age):\n",
    "        self.age = age\n",
    "        \n",
    "        \n",
    "class Data(Add,Age):\n",
    "    def __init__(self,name,age,add):\n",
    "        self.name = name\n",
    "        Age.__init__(self.age)\n",
    "        Add.__init__(self.add)\n",
    "          \n",
    "        \n",
    "    def info(self):\n",
    "        print(f\"Hello World I am {self.name}. I am from {self.add}. I am {self.age}\")\n",
    "        \n",
    "        \n",
    "name = input(\"Enter name = \")\n",
    "age = int(input(\"Enter age = \"))\n",
    "add = input(\"Enter add = \")\n",
    "obj = Data(name,age,add)\n",
    "obj.info()"
   ]
  },
  {
   "cell_type": "code",
   "execution_count": 12,
   "id": "82647263",
   "metadata": {},
   "outputs": [
    {
     "name": "stdout",
     "output_type": "stream",
     "text": [
      "Heena 16 tinkune\n",
      "Hello World I am Heena. I am from tinkune. I am 16\n"
     ]
    }
   ],
   "source": [
    "# Encaptulation\n",
    "# public members\n",
    "class Info:\n",
    "    def __init__(self):\n",
    "        self.name = \"Heena\"\n",
    "        self.age = 16\n",
    "        self.add = \"tinkune\"\n",
    "        \n",
    "class Data(Info):\n",
    "    def info(self):\n",
    "        print(f\"Hello World I am {self.name}. I am from {self.add}. I am {self.age}\")\n",
    "        \n",
    "        \n",
    "obj = Data()\n",
    "print(obj.name,obj.age,obj.add)\n",
    "obj.info()  "
   ]
  },
  {
   "cell_type": "code",
   "execution_count": 14,
   "id": "4cfc5a8d",
   "metadata": {},
   "outputs": [
    {
     "name": "stdout",
     "output_type": "stream",
     "text": [
      "Hello World I am Heena. I am from tinkune. I am 16\n"
     ]
    }
   ],
   "source": [
    "# protected members\n",
    "class Info:\n",
    "    def __init__(self):\n",
    "        self._name = \"Heena\"\n",
    "        self._age = 16\n",
    "        self._add = \"tinkune\"\n",
    "        \n",
    "class Data(Info):\n",
    "    def info(self):\n",
    "        print(f\"Hello World I am {self._name}. I am from {self._add}. I am {self._age}\")\n",
    "        \n",
    "        \n",
    "obj = Data()\n",
    "# print(obj.name,obj.age,obj.add)\n",
    "obj.info()  "
   ]
  },
  {
   "cell_type": "code",
   "execution_count": 16,
   "id": "59efb999",
   "metadata": {},
   "outputs": [
    {
     "name": "stdout",
     "output_type": "stream",
     "text": [
      "Hello World I am Heena.I am 16\n",
      "Hello World I am Heena. I am from tinkune. I am 16\n"
     ]
    }
   ],
   "source": [
    "# private member\n",
    "class Info:\n",
    "    def __init__(self):\n",
    "        self.name = \"Heena\" #public member\n",
    "        self._age = 16      #protected member\n",
    "        self.__add = \"tinkune\" #private member\n",
    "    def my_infos(self):\n",
    "        print(f\"Hello World I am {self.name}. I am from {self.__add}. I am {self._age}\")\n",
    "        \n",
    "class Data(Info):\n",
    "    def info(self):\n",
    "        print(f\"Hello World I am {self.name}.I am {self._age}\")\n",
    "        \n",
    "        \n",
    "obj = Data()\n",
    "obj.info() \n",
    "obj.my_infos()"
   ]
  },
  {
   "cell_type": "code",
   "execution_count": null,
   "id": "f533313d",
   "metadata": {},
   "outputs": [],
   "source": []
  }
 ],
 "metadata": {
  "kernelspec": {
   "display_name": "Python 3 (ipykernel)",
   "language": "python",
   "name": "python3"
  },
  "language_info": {
   "codemirror_mode": {
    "name": "ipython",
    "version": 3
   },
   "file_extension": ".py",
   "mimetype": "text/x-python",
   "name": "python",
   "nbconvert_exporter": "python",
   "pygments_lexer": "ipython3",
   "version": "3.10.9"
  }
 },
 "nbformat": 4,
 "nbformat_minor": 5
}
